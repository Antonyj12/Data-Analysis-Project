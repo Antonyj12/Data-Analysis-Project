{
 "cells": [
  {
   "cell_type": "markdown",
   "id": "9fd56ec5",
   "metadata": {},
   "source": [
    "# Importing all necessary libraries"
   ]
  },
  {
   "cell_type": "code",
   "execution_count": 1,
   "id": "a1867e31",
   "metadata": {},
   "outputs": [],
   "source": [
    "import numpy as np\n",
    "import pandas as pd\n",
    "import seaborn as sns\n",
    "import os\n",
    "from geopy.geocoders import Nominatim\n",
    "import folium\n",
    "import matplotlib.pyplot as plt\n"
   ]
  },
  {
   "cell_type": "code",
   "execution_count": 2,
   "id": "68d516ac",
   "metadata": {},
   "outputs": [
    {
     "name": "stdout",
     "output_type": "stream",
     "text": [
      "['.android', '.conda', '.condarc', '.continuum', '.eclipse', '.ipynb_checkpoints', '.ipython', '.jupyter', '.keras', '.matplotlib', '.p2', '.VirtualBox', '.vscode', '3D Objects', 'anaconda3', 'AppData', 'Application Data', 'chromedriver.exe', 'CNN Project.ipynb', 'Contacts', 'Cookies', 'Desktop', 'Documents', 'Downloads', 'Favorites', 'images_cnn', 'IntelGraphicsProfiles', 'Kolhapur Price Analysis Project.ipynb', 'Kolhapur properties.xlsx', 'kolhapur_locations.csv', 'Links', 'Local Settings', 'Music', 'My Documents', 'NetHood', 'NTUSER.DAT', 'ntuser.dat.LOG1', 'ntuser.dat.LOG2', 'NTUSER.DAT{1c2b59c6-c5f5-11eb-bacb-000d3a96488e}.TM.blf', 'NTUSER.DAT{1c2b59c6-c5f5-11eb-bacb-000d3a96488e}.TMContainer00000000000000000001.regtrans-ms', 'NTUSER.DAT{1c2b59c6-c5f5-11eb-bacb-000d3a96488e}.TMContainer00000000000000000002.regtrans-ms', 'ntuser.ini', 'OneDrive', 'Pictures', 'PrintHood', 'PycharmProjects', 'Recent', 'Saved Games', 'Searches', 'SendTo', 'Start Menu', 'Templates', 'Tracing', 'Untitled.ipynb', 'Videos', 'VirtualBox VMs', 'Web scrapping.ipynb']\n"
     ]
    }
   ],
   "source": [
    "print(os.listdir())"
   ]
  },
  {
   "cell_type": "code",
   "execution_count": 3,
   "id": "89de102a",
   "metadata": {},
   "outputs": [],
   "source": [
    "df=pd.read_excel(\"Kolhapur properties.xlsx\")"
   ]
  },
  {
   "cell_type": "code",
   "execution_count": 4,
   "id": "2212a1cd",
   "metadata": {},
   "outputs": [],
   "source": [
    "df['Bed'].fillna(int(df['Bed'].median()), inplace=True)\n"
   ]
  },
  {
   "cell_type": "code",
   "execution_count": 5,
   "id": "e0141be6",
   "metadata": {},
   "outputs": [
    {
     "data": {
      "text/html": [
       "<div>\n",
       "<style scoped>\n",
       "    .dataframe tbody tr th:only-of-type {\n",
       "        vertical-align: middle;\n",
       "    }\n",
       "\n",
       "    .dataframe tbody tr th {\n",
       "        vertical-align: top;\n",
       "    }\n",
       "\n",
       "    .dataframe thead th {\n",
       "        text-align: right;\n",
       "    }\n",
       "</style>\n",
       "<table border=\"1\" class=\"dataframe\">\n",
       "  <thead>\n",
       "    <tr style=\"text-align: right;\">\n",
       "      <th></th>\n",
       "      <th>Location</th>\n",
       "      <th>squarefeet</th>\n",
       "      <th>Bed</th>\n",
       "      <th>Price(Rs)</th>\n",
       "    </tr>\n",
       "  </thead>\n",
       "  <tbody>\n",
       "    <tr>\n",
       "      <th>0</th>\n",
       "      <td>E Ward</td>\n",
       "      <td>1243</td>\n",
       "      <td>3.0</td>\n",
       "      <td>11000000.0</td>\n",
       "    </tr>\n",
       "    <tr>\n",
       "      <th>1</th>\n",
       "      <td>Panhala</td>\n",
       "      <td>1500</td>\n",
       "      <td>2.0</td>\n",
       "      <td>5800000.0</td>\n",
       "    </tr>\n",
       "    <tr>\n",
       "      <th>2</th>\n",
       "      <td>Kathali</td>\n",
       "      <td>2831500</td>\n",
       "      <td>2.0</td>\n",
       "      <td>97000000.0</td>\n",
       "    </tr>\n",
       "    <tr>\n",
       "      <th>3</th>\n",
       "      <td>Phulewadi</td>\n",
       "      <td>1800</td>\n",
       "      <td>2.0</td>\n",
       "      <td>7000000.0</td>\n",
       "    </tr>\n",
       "    <tr>\n",
       "      <th>4</th>\n",
       "      <td>Kadamwadi</td>\n",
       "      <td>1200</td>\n",
       "      <td>2.0</td>\n",
       "      <td>6000000.0</td>\n",
       "    </tr>\n",
       "    <tr>\n",
       "      <th>...</th>\n",
       "      <td>...</td>\n",
       "      <td>...</td>\n",
       "      <td>...</td>\n",
       "      <td>...</td>\n",
       "    </tr>\n",
       "    <tr>\n",
       "      <th>552</th>\n",
       "      <td>Deokar Panand</td>\n",
       "      <td>979</td>\n",
       "      <td>2.0</td>\n",
       "      <td>3200000.0</td>\n",
       "    </tr>\n",
       "    <tr>\n",
       "      <th>553</th>\n",
       "      <td>Pachgaon</td>\n",
       "      <td>550</td>\n",
       "      <td>1.0</td>\n",
       "      <td>1800000.0</td>\n",
       "    </tr>\n",
       "    <tr>\n",
       "      <th>554</th>\n",
       "      <td>Mahadik Vasahat</td>\n",
       "      <td>850</td>\n",
       "      <td>2.0</td>\n",
       "      <td>4500000.0</td>\n",
       "    </tr>\n",
       "    <tr>\n",
       "      <th>555</th>\n",
       "      <td>Tarabai Park</td>\n",
       "      <td>1250</td>\n",
       "      <td>2.0</td>\n",
       "      <td>6015000.0</td>\n",
       "    </tr>\n",
       "    <tr>\n",
       "      <th>556</th>\n",
       "      <td>Rajarampuri</td>\n",
       "      <td>3800</td>\n",
       "      <td>4.0</td>\n",
       "      <td>25000000.0</td>\n",
       "    </tr>\n",
       "  </tbody>\n",
       "</table>\n",
       "<p>557 rows × 4 columns</p>\n",
       "</div>"
      ],
      "text/plain": [
       "             Location  squarefeet  Bed   Price(Rs)\n",
       "0              E Ward        1243  3.0  11000000.0\n",
       "1             Panhala        1500  2.0   5800000.0\n",
       "2             Kathali     2831500  2.0  97000000.0\n",
       "3           Phulewadi        1800  2.0   7000000.0\n",
       "4           Kadamwadi        1200  2.0   6000000.0\n",
       "..                ...         ...  ...         ...\n",
       "552     Deokar Panand         979  2.0   3200000.0\n",
       "553          Pachgaon         550  1.0   1800000.0\n",
       "554   Mahadik Vasahat         850  2.0   4500000.0\n",
       "555      Tarabai Park        1250  2.0   6015000.0\n",
       "556       Rajarampuri        3800  4.0  25000000.0\n",
       "\n",
       "[557 rows x 4 columns]"
      ]
     },
     "execution_count": 5,
     "metadata": {},
     "output_type": "execute_result"
    }
   ],
   "source": [
    "#df=df.drop(\"Location\",axis=\"columns\")\n",
    "df"
   ]
  },
  {
   "cell_type": "code",
   "execution_count": 6,
   "id": "2676c9f0",
   "metadata": {},
   "outputs": [
    {
     "data": {
      "text/plain": [
       "Location      0\n",
       "squarefeet    0\n",
       "Bed           0\n",
       "Price(Rs)     0\n",
       "dtype: int64"
      ]
     },
     "execution_count": 6,
     "metadata": {},
     "output_type": "execute_result"
    }
   ],
   "source": [
    "df.isnull().sum()"
   ]
  },
  {
   "cell_type": "code",
   "execution_count": 7,
   "id": "6003c1b5",
   "metadata": {},
   "outputs": [
    {
     "data": {
      "text/plain": [
       "Location      0\n",
       "squarefeet    0\n",
       "Bed           0\n",
       "Price(Rs)     0\n",
       "dtype: int64"
      ]
     },
     "execution_count": 7,
     "metadata": {},
     "output_type": "execute_result"
    }
   ],
   "source": [
    "df=df.dropna()\n",
    "df.isnull().sum()"
   ]
  },
  {
   "cell_type": "code",
   "execution_count": 8,
   "id": "86d6034d",
   "metadata": {},
   "outputs": [
    {
     "name": "stdout",
     "output_type": "stream",
     "text": [
      "<class 'pandas.core.frame.DataFrame'>\n",
      "Int64Index: 557 entries, 0 to 556\n",
      "Data columns (total 4 columns):\n",
      " #   Column      Non-Null Count  Dtype  \n",
      "---  ------      --------------  -----  \n",
      " 0   Location    557 non-null    object \n",
      " 1   squarefeet  557 non-null    int64  \n",
      " 2   Bed         557 non-null    float64\n",
      " 3   Price(Rs)   557 non-null    float64\n",
      "dtypes: float64(2), int64(1), object(1)\n",
      "memory usage: 21.8+ KB\n"
     ]
    }
   ],
   "source": [
    "df.info()"
   ]
  },
  {
   "cell_type": "code",
   "execution_count": 9,
   "id": "4c504b5e",
   "metadata": {},
   "outputs": [],
   "source": [
    "df['Bed'] = df['Bed'].astype(int)"
   ]
  },
  {
   "cell_type": "code",
   "execution_count": 10,
   "id": "e3d2dd9e",
   "metadata": {},
   "outputs": [
    {
     "data": {
      "text/plain": [
       "array([ 3,  2,  4,  1, 10,  9,  8,  5,  7,  6])"
      ]
     },
     "execution_count": 10,
     "metadata": {},
     "output_type": "execute_result"
    }
   ],
   "source": [
    "df['Bed'].unique()"
   ]
  },
  {
   "cell_type": "code",
   "execution_count": 11,
   "id": "fb2717b3",
   "metadata": {},
   "outputs": [
    {
     "data": {
      "text/plain": [
       "array([' E Ward', ' Panhala', ' Kathali', ' Phulewadi', '  Kadamwadi',\n",
       "       ' Balinge', 'New Palace Area', ' Rajopadhye Nagar', 'NEHRU NAGAR',\n",
       "       ' Uchgaon', ' Mauje Ispurli', 'Shivaji Peth', '  Tarabai Park',\n",
       "       ' Nagala Park', ' Sambhaji Nagar', ' ITI', ' Tamgav road',\n",
       "       ' Puikhadi', 'Deshmukh Highschool', ' Rajendra Nagar',\n",
       "       ' Ichalkaranji', 'At post Sheloli,Tal-Bhudargarh', 'Phulewadi',\n",
       "       'New Shahupuri', ' Near Saraswati mangal karyalay', 'Gandhinagar',\n",
       "       ' Amba', ' Baba Jarag Nagar',\n",
       "       'dependent Builder Floor in Rajlaxmi Nagar', ' Kagal',\n",
       "       ' shingnapur', ' Kasaba Bawada', ' Kadamwadi', ' Chandgad',\n",
       "       'Ambewadi', ' Aptenagar', ' Wadipir', ' Kanerkar Nagar',\n",
       "       ' Uttareshwar Peth', 'Laxminarayan Nagar', ' Sane Guruji Vasahat',\n",
       "       ' Pachgaon', 'Karande mala ,saibaba colony Kolhapur',\n",
       "       ' B- ward Jarag Naga', ' Mudshingi', ' Bapat Camp', 'Pachgaon',\n",
       "       'dependent Builder Floor in Kanerkar Nagar', ' Gargoti',\n",
       "       ' Shingnapur', ' rajendranager', ' Balaram Colony,Sutarmala',\n",
       "       ' Bhudargad', ' Kaneri', ' halsavade', 'Uchgaon',\n",
       "       ' Nana Patil Nagar', ' Jaysingpur', ' bagel chowk',\n",
       "       ' Nadives Road', 'dependent Builder Floor in Budhalaykar Nagar',\n",
       "       ' kasba bavada', 'dependent Builder Floor in Pachgaon',\n",
       "       ' Jawahar Nagar',\n",
       "       ' Near matoshri vruddhashram, Shingnapur road, kolhapur',\n",
       "       ' Saibaba colony Kolhapur',\n",
       "       '3 BHK Independent Builder Floor in Mangalwar Peth',\n",
       "       ' Hatkanangale',\n",
       "       ' Aishwarya park,behind collector office,nagala park, kolhapur',\n",
       "       ' kolhapur', ' kasba beed', 'Rajarampuri', ' Morewadi',\n",
       "       ' Ujalaiwadi', ' BEHINGD ORANGE DHABA NH4', ' Nagav',\n",
       "       ' Shingnapur MPL Naka', ' Raman Mala', ' Rajarampuri',\n",
       "       ' Sarnobatwadi', ' Mahadik Maal', ' Mangalwar Peth',\n",
       "       ' Shinganapur', ' Madilage Budruk', ' Kandalgaon',\n",
       "       '2 Bedroom Farm house in Chandgad', ' Bawada',\n",
       "       ' Ratnappa Kumbhar Nagar', 'Jadhavwadi', ' Phulewadi ,ZP colony',\n",
       "       ' Ruikar Colony', ' Vadanage', ' Shignapur',\n",
       "       ' Vathar Tarf Vadgaon', ' Rankala kolhapur',\n",
       "       '10 Bedroom Independent House in Jaysingpur', ' Rankala Padpath',\n",
       "       ' Opp Indrajeet Colony', ' Bindu Chowk', ' Bindu chowk',\n",
       "       ' Kasba bawada', ' WARANANAGAR',\n",
       "       'dependent Builder Floor in Aptenagar', 'Maner mala',\n",
       "       ' Kalamba Main Road', ' Peth Vadgaon', ' Surve NAGAR',\n",
       "       'Gadmudshingi', ' Gadhinglaj', ' pachgaon, near shikshak colony',\n",
       "       ' Kasarwadi', ' Ganesh Colony', ' Gokul Shirgaon', ' Kalamba',\n",
       "       ' Prathiba Nagar', ' 7th lane Rajarampuri',\n",
       "       ' near swami samarth mandir', '2 Bedroom Farm house in Panhala',\n",
       "       ' Shiroli', ' Rankala', ' Bhavani Mandap',\n",
       "       'dependent Builder Floor in Sane Guruji Vasahat', 'Peth Vadgaon',\n",
       "       ' Wadi Ratnagiri', ' Varsha Nagar', ' Kodoli',\n",
       "       'dependent Builder Floor in Near Allora Factory, Kalamba Road',\n",
       "       ' Near Rankala stand',\n",
       "       '9 Bedroom Independent House in aazad chouk, near datta mandir',\n",
       "       ' Mukt Sainik Colony', ' Near new washi naka',\n",
       "       '2 Bedroom Farm house in Amba Ghatts', ' bhosalewadi',\n",
       "       ' Mukta Sainik Vasahat', ' Shaniwar Peth', ' Mhalasawade',\n",
       "       ' Near Lishan hotel', ' Shahu Market Yard', ' Wadipur',\n",
       "       ' Ram Galli', 'Ichalkaranji', ' New Mahadwar Road',\n",
       "       ' NEW PALACE AREA NR SHAHU SCHOOL', 'Belbag', 'Ramanand Nagar',\n",
       "       ' ujalaiwadi kolhapur', ' Kaneri Math', ' panchgaon', ' Kabnur',\n",
       "       ' Mauje Hanabarwadi', ' Dudhali Kolhapur', ' Shivaji Peth A Ward',\n",
       "       ' KASBA KARVIR,WARD E ,PLOT NO-7 TO 12', ' Hanbarwadi',\n",
       "       ' Deokar Panand', ' Survey Nagar', ' Gokul Shirgaon Kagalemala',\n",
       "       '8 BHK Independent Builder Floor in Hanuman colony',\n",
       "       ' Minche gram panchayat', 'SSC Board Bus Stop',\n",
       "       ' Jaisingrao Park, Kagal', ' Vashi Kolhapur', ' shingnapur road',\n",
       "       ' Line Bazaar', ' Ramanand Nagar', ' New Washi Naka',\n",
       "       ' Tarabai Park', ' Hariom Nagar', ' Patolewadi',\n",
       "       ' Near Mahaveer college, Nagala Park', 'Mangalwar Peth',\n",
       "       'Rajendra Nagar', ' Ambai Defence Colony', ' Residential Land',\n",
       "       ' Samrat Nagar', 'Samrat Nagar',\n",
       "       '5 Bedroom Independent House in Shahupuri',\n",
       "       '3 BHK Independent Builder Floor in Hari Om Nagar',\n",
       "       ' Balavadhoot Nagar', ' Bondrenagar', ' Shree Samarth Nagar',\n",
       "       ' Karveer Nagar', ' APTE NAGAR', ' Karande Mala', ' Nigve dumala',\n",
       "       ' Jadhavwadi', ' Warna Colony',\n",
       "       '5 Bedroom Independent House in Jaysingpur', ' SHINGANAPUR',\n",
       "       ' Shivaji Park', ' Jivaba nana jadhav park', ' vashi',\n",
       "       ' Hari Om Nagar',\n",
       "       ' Opposite bharti vidhyapeeth kandalgoan kolhapur',\n",
       "       '2 Bedroom Farm house in Ratnappa Kumbhar Nagar', ' wadipir',\n",
       "       ' Kalambe Turf Thane', ' Gangavesh', ' Residential Rowhouse',\n",
       "       'Mukt Sainik Colony', ' New Shahupuri',\n",
       "       ' Near Cyber college, Rajarampuri', ' ayodhya colony Bondrenagar',\n",
       "       ' Kanerkarnagar', ' kaneri, tal: karvir',\n",
       "       ' backside of mahendra jewellers', ' fulewadi',\n",
       "       ' would like property on 99acres free let me continue here',\n",
       "       '7 Bedroom Independent House in Nale Colony', ' Kandalgoan',\n",
       "       ' Nipani', ' Near Dr. D. Y. Patil Hospital', ' Fulewadi Ring Road',\n",
       "       ' Ambivli', ' Pargaon', ' Gadmudshingi', ' Laxminarayan Nagar',\n",
       "       ' R.K.Nagar,Kolhapur', ' Bondre Nagar,', 'Pratibha Nagar',\n",
       "       'Mcdonalds NH4 sarnobatwadi', ' washi nandwal road', ' Shahupuri',\n",
       "       ' Vadgaon Road', ' Rk Nagar',\n",
       "       '3 BHK Independent Builder Floor in Nana Patil Nagar',\n",
       "       ' CHITRA NAGARI K', ' Pune Banglore hwy, Sarnobatwadi', ' Midc',\n",
       "       ' jivbha nana jadhav park', ' Jivaba nana Jadhav park',\n",
       "       'Baba Jarag Nagar', ' Mali Colony', 'Varsha Nagar',\n",
       "       ' Jivabanana Jadhav Park', ' Nerli', ' Panhala Kolhapur',\n",
       "       '6 Bedroom Independent House in Deokar Panand', ' NH4',\n",
       "       ' 5 star kagal midc', ' Atigre', ' SBI Colony', ' Kolhapur',\n",
       "       ' New Palace', ' near bharati vidyapith,pachagaon',\n",
       "       ' Powar Colony R.K.Nagar', ' mudshingi',\n",
       "       ' Old More Colony, Sambhaji Nagar', ' Panchgaon',\n",
       "       '3 BHK Independent Builder Floor in Shahupuri', ' Temblaiwadi',\n",
       "       ' Pratibha Nagar', ' NEAR SWAMI SAMARTH MANDIR',\n",
       "       ' side of shantiniketan', ' Sadguru Colony',\n",
       "       '5 Bedroom Independent House in Nagala Park',\n",
       "       'Ratnappa Kumbhar Nagar', ' Khadicha Ganpati Temple',\n",
       "       ' rajarampuri 6th lane', ' RUKMININAGAR', ' DATTA mandir Road',\n",
       "       ' Parvati Jadhav Colony', ' Near Amit spinning mill, sangoda road',\n",
       "       ' Mahadik Vasahat'], dtype=object)"
      ]
     },
     "execution_count": 11,
     "metadata": {},
     "output_type": "execute_result"
    }
   ],
   "source": [
    "df['Location'].unique()"
   ]
  },
  {
   "cell_type": "code",
   "execution_count": 12,
   "id": "e6889a75",
   "metadata": {},
   "outputs": [],
   "source": [
    "locations=pd.DataFrame({\"Name\":df[\"Location\"].unique()})"
   ]
  },
  {
   "cell_type": "code",
   "execution_count": 13,
   "id": "990d1bf2",
   "metadata": {},
   "outputs": [],
   "source": [
    "locations[\"new name\"]='Kolhapur'+locations['Name']"
   ]
  },
  {
   "cell_type": "code",
   "execution_count": 14,
   "id": "058a2cfe",
   "metadata": {},
   "outputs": [
    {
     "data": {
      "text/html": [
       "<div>\n",
       "<style scoped>\n",
       "    .dataframe tbody tr th:only-of-type {\n",
       "        vertical-align: middle;\n",
       "    }\n",
       "\n",
       "    .dataframe tbody tr th {\n",
       "        vertical-align: top;\n",
       "    }\n",
       "\n",
       "    .dataframe thead th {\n",
       "        text-align: right;\n",
       "    }\n",
       "</style>\n",
       "<table border=\"1\" class=\"dataframe\">\n",
       "  <thead>\n",
       "    <tr style=\"text-align: right;\">\n",
       "      <th></th>\n",
       "      <th>Name</th>\n",
       "      <th>new name</th>\n",
       "    </tr>\n",
       "  </thead>\n",
       "  <tbody>\n",
       "    <tr>\n",
       "      <th>0</th>\n",
       "      <td>E Ward</td>\n",
       "      <td>Kolhapur E Ward</td>\n",
       "    </tr>\n",
       "    <tr>\n",
       "      <th>1</th>\n",
       "      <td>Panhala</td>\n",
       "      <td>Kolhapur Panhala</td>\n",
       "    </tr>\n",
       "    <tr>\n",
       "      <th>2</th>\n",
       "      <td>Kathali</td>\n",
       "      <td>Kolhapur Kathali</td>\n",
       "    </tr>\n",
       "    <tr>\n",
       "      <th>3</th>\n",
       "      <td>Phulewadi</td>\n",
       "      <td>Kolhapur Phulewadi</td>\n",
       "    </tr>\n",
       "    <tr>\n",
       "      <th>4</th>\n",
       "      <td>Kadamwadi</td>\n",
       "      <td>Kolhapur  Kadamwadi</td>\n",
       "    </tr>\n",
       "  </tbody>\n",
       "</table>\n",
       "</div>"
      ],
      "text/plain": [
       "          Name             new name\n",
       "0       E Ward      Kolhapur E Ward\n",
       "1      Panhala     Kolhapur Panhala\n",
       "2      Kathali     Kolhapur Kathali\n",
       "3    Phulewadi   Kolhapur Phulewadi\n",
       "4    Kadamwadi  Kolhapur  Kadamwadi"
      ]
     },
     "execution_count": 14,
     "metadata": {},
     "output_type": "execute_result"
    }
   ],
   "source": [
    "locations.head()"
   ]
  },
  {
   "cell_type": "code",
   "execution_count": 21,
   "id": "fbc03c0f",
   "metadata": {},
   "outputs": [
    {
     "name": "stdout",
     "output_type": "stream",
     "text": [
      "Requirement already satisfied: geopy in c:\\users\\anton\\anaconda3\\lib\\site-packages (2.2.0)\n",
      "Requirement already satisfied: geographiclib<2,>=1.49 in c:\\users\\anton\\anaconda3\\lib\\site-packages (from geopy) (1.52)\n"
     ]
    }
   ],
   "source": []
  },
  {
   "cell_type": "code",
   "execution_count": 22,
   "id": "c5a50cdf",
   "metadata": {},
   "outputs": [],
   "source": []
  },
  {
   "cell_type": "code",
   "execution_count": 16,
   "id": "e976f8d4",
   "metadata": {},
   "outputs": [],
   "source": [
    "lat_lon=[] # list that will store the lat and lon\n",
    "geolocator=Nominatim(user_agent=\"app\") # to establish connection \n",
    "for location in locations['new name']:\n",
    "    location = geolocator.geocode(location)\n",
    "    if location is None:\n",
    "        lat_lon.append(np.nan) # if no location is there\n",
    "    else:    \n",
    "        geo=(location.latitude,location.longitude)\n",
    "        lat_lon.append(geo)\n",
    "        \n",
    "        \n",
    "        \n",
    "        "
   ]
  },
  {
   "cell_type": "code",
   "execution_count": 17,
   "id": "48af77bb",
   "metadata": {},
   "outputs": [],
   "source": [
    "locations['geo_loc']=lat_lon"
   ]
  },
  {
   "cell_type": "code",
   "execution_count": 18,
   "id": "6ba34f9f",
   "metadata": {},
   "outputs": [
    {
     "data": {
      "text/html": [
       "<div>\n",
       "<style scoped>\n",
       "    .dataframe tbody tr th:only-of-type {\n",
       "        vertical-align: middle;\n",
       "    }\n",
       "\n",
       "    .dataframe tbody tr th {\n",
       "        vertical-align: top;\n",
       "    }\n",
       "\n",
       "    .dataframe thead th {\n",
       "        text-align: right;\n",
       "    }\n",
       "</style>\n",
       "<table border=\"1\" class=\"dataframe\">\n",
       "  <thead>\n",
       "    <tr style=\"text-align: right;\">\n",
       "      <th></th>\n",
       "      <th>Name</th>\n",
       "      <th>new name</th>\n",
       "      <th>geo_loc</th>\n",
       "    </tr>\n",
       "  </thead>\n",
       "  <tbody>\n",
       "    <tr>\n",
       "      <th>0</th>\n",
       "      <td>E Ward</td>\n",
       "      <td>Kolhapur E Ward</td>\n",
       "      <td>NaN</td>\n",
       "    </tr>\n",
       "    <tr>\n",
       "      <th>1</th>\n",
       "      <td>Panhala</td>\n",
       "      <td>Kolhapur Panhala</td>\n",
       "      <td>(16.8066833, 74.1125979)</td>\n",
       "    </tr>\n",
       "    <tr>\n",
       "      <th>2</th>\n",
       "      <td>Kathali</td>\n",
       "      <td>Kolhapur Kathali</td>\n",
       "      <td>NaN</td>\n",
       "    </tr>\n",
       "    <tr>\n",
       "      <th>3</th>\n",
       "      <td>Phulewadi</td>\n",
       "      <td>Kolhapur Phulewadi</td>\n",
       "      <td>(16.689140700000003, 74.18994793989897)</td>\n",
       "    </tr>\n",
       "    <tr>\n",
       "      <th>4</th>\n",
       "      <td>Kadamwadi</td>\n",
       "      <td>Kolhapur  Kadamwadi</td>\n",
       "      <td>(16.71462455, 74.25526868714147)</td>\n",
       "    </tr>\n",
       "    <tr>\n",
       "      <th>5</th>\n",
       "      <td>Balinge</td>\n",
       "      <td>Kolhapur Balinge</td>\n",
       "      <td>(16.6895986, 74.1725766)</td>\n",
       "    </tr>\n",
       "    <tr>\n",
       "      <th>6</th>\n",
       "      <td>New Palace Area</td>\n",
       "      <td>KolhapurNew Palace Area</td>\n",
       "      <td>NaN</td>\n",
       "    </tr>\n",
       "    <tr>\n",
       "      <th>7</th>\n",
       "      <td>Rajopadhye Nagar</td>\n",
       "      <td>Kolhapur Rajopadhye Nagar</td>\n",
       "      <td>NaN</td>\n",
       "    </tr>\n",
       "    <tr>\n",
       "      <th>8</th>\n",
       "      <td>NEHRU NAGAR</td>\n",
       "      <td>KolhapurNEHRU NAGAR</td>\n",
       "      <td>NaN</td>\n",
       "    </tr>\n",
       "    <tr>\n",
       "      <th>9</th>\n",
       "      <td>Uchgaon</td>\n",
       "      <td>Kolhapur Uchgaon</td>\n",
       "      <td>(16.6969914, 74.27496020123672)</td>\n",
       "    </tr>\n",
       "  </tbody>\n",
       "</table>\n",
       "</div>"
      ],
      "text/plain": [
       "                Name                   new name  \\\n",
       "0             E Ward            Kolhapur E Ward   \n",
       "1            Panhala           Kolhapur Panhala   \n",
       "2            Kathali           Kolhapur Kathali   \n",
       "3          Phulewadi         Kolhapur Phulewadi   \n",
       "4          Kadamwadi        Kolhapur  Kadamwadi   \n",
       "5            Balinge           Kolhapur Balinge   \n",
       "6    New Palace Area    KolhapurNew Palace Area   \n",
       "7   Rajopadhye Nagar  Kolhapur Rajopadhye Nagar   \n",
       "8        NEHRU NAGAR        KolhapurNEHRU NAGAR   \n",
       "9            Uchgaon           Kolhapur Uchgaon   \n",
       "\n",
       "                                   geo_loc  \n",
       "0                                      NaN  \n",
       "1                 (16.8066833, 74.1125979)  \n",
       "2                                      NaN  \n",
       "3  (16.689140700000003, 74.18994793989897)  \n",
       "4         (16.71462455, 74.25526868714147)  \n",
       "5                 (16.6895986, 74.1725766)  \n",
       "6                                      NaN  \n",
       "7                                      NaN  \n",
       "8                                      NaN  \n",
       "9          (16.6969914, 74.27496020123672)  "
      ]
     },
     "execution_count": 18,
     "metadata": {},
     "output_type": "execute_result"
    }
   ],
   "source": [
    "locations.head(10)"
   ]
  },
  {
   "cell_type": "code",
   "execution_count": 19,
   "id": "d283a876",
   "metadata": {},
   "outputs": [],
   "source": [
    "locations.to_csv('kolhapur_locations.csv',index=False)"
   ]
  },
  {
   "cell_type": "code",
   "execution_count": 20,
   "id": "2638a525",
   "metadata": {},
   "outputs": [],
   "source": [
    "house_locations=pd.DataFrame(df['Location'].value_counts().reset_index())"
   ]
  },
  {
   "cell_type": "code",
   "execution_count": 21,
   "id": "8888d2cd",
   "metadata": {},
   "outputs": [
    {
     "data": {
      "text/html": [
       "<div>\n",
       "<style scoped>\n",
       "    .dataframe tbody tr th:only-of-type {\n",
       "        vertical-align: middle;\n",
       "    }\n",
       "\n",
       "    .dataframe tbody tr th {\n",
       "        vertical-align: top;\n",
       "    }\n",
       "\n",
       "    .dataframe thead th {\n",
       "        text-align: right;\n",
       "    }\n",
       "</style>\n",
       "<table border=\"1\" class=\"dataframe\">\n",
       "  <thead>\n",
       "    <tr style=\"text-align: right;\">\n",
       "      <th></th>\n",
       "      <th>Name</th>\n",
       "      <th>count</th>\n",
       "    </tr>\n",
       "  </thead>\n",
       "  <tbody>\n",
       "    <tr>\n",
       "      <th>0</th>\n",
       "      <td>Nagala Park</td>\n",
       "      <td>20</td>\n",
       "    </tr>\n",
       "    <tr>\n",
       "      <th>1</th>\n",
       "      <td>Tarabai Park</td>\n",
       "      <td>20</td>\n",
       "    </tr>\n",
       "    <tr>\n",
       "      <th>2</th>\n",
       "      <td>Phulewadi</td>\n",
       "      <td>18</td>\n",
       "    </tr>\n",
       "    <tr>\n",
       "      <th>3</th>\n",
       "      <td>Kagal</td>\n",
       "      <td>16</td>\n",
       "    </tr>\n",
       "    <tr>\n",
       "      <th>4</th>\n",
       "      <td>Ichalkaranji</td>\n",
       "      <td>15</td>\n",
       "    </tr>\n",
       "  </tbody>\n",
       "</table>\n",
       "</div>"
      ],
      "text/plain": [
       "            Name  count\n",
       "0    Nagala Park     20\n",
       "1   Tarabai Park     20\n",
       "2      Phulewadi     18\n",
       "3          Kagal     16\n",
       "4   Ichalkaranji     15"
      ]
     },
     "execution_count": 21,
     "metadata": {},
     "output_type": "execute_result"
    }
   ],
   "source": [
    "house_locations.columns=['Name','count']\n",
    "house_locations.head()"
   ]
  },
  {
   "cell_type": "code",
   "execution_count": 22,
   "id": "d5cf2922",
   "metadata": {},
   "outputs": [
    {
     "data": {
      "text/plain": [
       "(264, 3)"
      ]
     },
     "execution_count": 22,
     "metadata": {},
     "output_type": "execute_result"
    }
   ],
   "source": [
    "locations.shape\n"
   ]
  },
  {
   "cell_type": "code",
   "execution_count": 23,
   "id": "48440940",
   "metadata": {},
   "outputs": [
    {
     "ename": "NameError",
     "evalue": "name 'Rest_locations' is not defined",
     "output_type": "error",
     "traceback": [
      "\u001b[1;31m---------------------------------------------------------------------------\u001b[0m",
      "\u001b[1;31mNameError\u001b[0m                                 Traceback (most recent call last)",
      "\u001b[1;32m<ipython-input-23-dc82b35820df>\u001b[0m in \u001b[0;36m<module>\u001b[1;34m\u001b[0m\n\u001b[1;32m----> 1\u001b[1;33m \u001b[0mRest_locations\u001b[0m\u001b[1;33m.\u001b[0m\u001b[0mshape\u001b[0m\u001b[1;33m\u001b[0m\u001b[1;33m\u001b[0m\u001b[0m\n\u001b[0m",
      "\u001b[1;31mNameError\u001b[0m: name 'Rest_locations' is not defined"
     ]
    }
   ],
   "source": [
    "Rest_locations.shape"
   ]
  },
  {
   "cell_type": "code",
   "execution_count": 24,
   "id": "bd4f58ef",
   "metadata": {},
   "outputs": [
    {
     "data": {
      "text/html": [
       "<div>\n",
       "<style scoped>\n",
       "    .dataframe tbody tr th:only-of-type {\n",
       "        vertical-align: middle;\n",
       "    }\n",
       "\n",
       "    .dataframe tbody tr th {\n",
       "        vertical-align: top;\n",
       "    }\n",
       "\n",
       "    .dataframe thead th {\n",
       "        text-align: right;\n",
       "    }\n",
       "</style>\n",
       "<table border=\"1\" class=\"dataframe\">\n",
       "  <thead>\n",
       "    <tr style=\"text-align: right;\">\n",
       "      <th></th>\n",
       "      <th>Name</th>\n",
       "      <th>count</th>\n",
       "      <th>new name</th>\n",
       "      <th>geo_loc</th>\n",
       "    </tr>\n",
       "  </thead>\n",
       "  <tbody>\n",
       "    <tr>\n",
       "      <th>0</th>\n",
       "      <td>Nagala Park</td>\n",
       "      <td>20</td>\n",
       "      <td>Kolhapur Nagala Park</td>\n",
       "      <td>(16.710706950000002, 74.235390277957)</td>\n",
       "    </tr>\n",
       "    <tr>\n",
       "      <th>1</th>\n",
       "      <td>Tarabai Park</td>\n",
       "      <td>20</td>\n",
       "      <td>Kolhapur Tarabai Park</td>\n",
       "      <td>(16.7120318, 74.24504721182578)</td>\n",
       "    </tr>\n",
       "    <tr>\n",
       "      <th>2</th>\n",
       "      <td>Phulewadi</td>\n",
       "      <td>18</td>\n",
       "      <td>Kolhapur Phulewadi</td>\n",
       "      <td>(16.689140700000003, 74.18994793989897)</td>\n",
       "    </tr>\n",
       "    <tr>\n",
       "      <th>3</th>\n",
       "      <td>Kagal</td>\n",
       "      <td>16</td>\n",
       "      <td>Kolhapur Kagal</td>\n",
       "      <td>(16.5750891, 74.3152571)</td>\n",
       "    </tr>\n",
       "    <tr>\n",
       "      <th>4</th>\n",
       "      <td>Ichalkaranji</td>\n",
       "      <td>15</td>\n",
       "      <td>Kolhapur Ichalkaranji</td>\n",
       "      <td>(16.6959348, 74.4555755)</td>\n",
       "    </tr>\n",
       "  </tbody>\n",
       "</table>\n",
       "</div>"
      ],
      "text/plain": [
       "            Name  count               new name  \\\n",
       "0    Nagala Park     20   Kolhapur Nagala Park   \n",
       "1   Tarabai Park     20  Kolhapur Tarabai Park   \n",
       "2      Phulewadi     18     Kolhapur Phulewadi   \n",
       "3          Kagal     16         Kolhapur Kagal   \n",
       "4   Ichalkaranji     15  Kolhapur Ichalkaranji   \n",
       "\n",
       "                                   geo_loc  \n",
       "0    (16.710706950000002, 74.235390277957)  \n",
       "1          (16.7120318, 74.24504721182578)  \n",
       "2  (16.689140700000003, 74.18994793989897)  \n",
       "3                 (16.5750891, 74.3152571)  \n",
       "4                 (16.6959348, 74.4555755)  "
      ]
     },
     "execution_count": 24,
     "metadata": {},
     "output_type": "execute_result"
    }
   ],
   "source": [
    "house_locations=house_locations.merge(locations,on='Name',how=\"left\").dropna()\n",
    "house_locations.head()"
   ]
  },
  {
   "cell_type": "code",
   "execution_count": 25,
   "id": "7d5f174d",
   "metadata": {},
   "outputs": [],
   "source": [
    "def generateBaseMap(default_location=[12.97, 77.59], default_zoom_start=12):\n",
    "    base_map = folium.Map(location=default_location, zoom_start=default_zoom_start)\n",
    "    return base_map"
   ]
  },
  {
   "cell_type": "code",
   "execution_count": 26,
   "id": "7b2172c3",
   "metadata": {},
   "outputs": [
    {
     "data": {
      "text/plain": [
       "array([(16.710706950000002, 74.235390277957),\n",
       "       (16.7120318, 74.24504721182578),\n",
       "       (16.689140700000003, 74.18994793989897), (16.5750891, 74.3152571),\n",
       "       (16.6959348, 74.4555755), (16.68984515, 74.22818893562221),\n",
       "       (16.66305315, 74.226392786211), (16.67739055, 74.20302141828893),\n",
       "       (16.7789886, 74.5564244), (16.6945771, 74.2453534),\n",
       "       (16.6646285, 74.2706915), (16.9713255, 73.7979743),\n",
       "       (16.739368849999998, 74.24528766734676),\n",
       "       (16.6969914, 74.27496020123672), (16.67126965, 74.24407155695798),\n",
       "       (16.67639115, 74.2110183536068), (16.72355675, 74.23542939254457),\n",
       "       (16.8066833, 74.1125979), (16.763223850000003, 74.27279355145322),\n",
       "       (16.71462455, 74.25526868714147), (16.7103509, 74.26236390138304),\n",
       "       (16.7028406, 74.2480168), (16.687633050000002, 74.21570009905508),\n",
       "       (16.66714985, 74.22638500455321),\n",
       "       (16.685289349999998, 74.20214578813312), (16.6895986, 74.1725766),\n",
       "       (16.6632879, 74.2427086), (16.64340565, 74.2866169318268),\n",
       "       (16.7477491, 74.4211932), (16.675854100000002, 74.18953727894649),\n",
       "       (16.675412350000002, 74.1956534373711),\n",
       "       (16.7002439, 74.23651153926126), (16.6265595, 74.28009988443821),\n",
       "       (16.671078100000003, 74.22461217822632),\n",
       "       (16.253901300000003, 74.11292897934544),\n",
       "       (16.6798314, 74.23080535214832), (16.8750463, 74.1901147),\n",
       "       (16.68246235, 74.21844383926972), (16.710261, 74.2690381),\n",
       "       (16.680660500000002, 74.24367749718321), (16.835267, 74.315172),\n",
       "       (16.7028412, 74.2405329), (16.7146964, 74.1837258),\n",
       "       (16.694686400000002, 74.25021131211362),\n",
       "       (16.685287250000002, 74.2449668924585),\n",
       "       (16.14090075, 74.40369325283643), (16.6760121, 73.9724872),\n",
       "       (16.7632072, 74.274587), (16.687976149999997, 74.21034606988948),\n",
       "       (16.6321827, 74.3318975), (16.6632815, 74.2691946),\n",
       "       (16.694496, 74.2430941), (15.90143005, 74.24056205272171),\n",
       "       (16.6968175, 74.2206768), (16.7116641, 74.25686584696678),\n",
       "       (16.71761415, 74.23161787841104), (16.24932255, 74.142230886515),\n",
       "       (16.70042385, 74.22149119893842), (16.6904229, 74.20533411482413),\n",
       "       (16.67089955, 74.23441154426975),\n",
       "       (16.739368849999998, 74.24528766734676),\n",
       "       (16.70638695, 74.23646958057115),\n",
       "       (16.695884399999997, 74.22719267538452),\n",
       "       (16.68161975, 74.18986522255413), (16.740931, 74.5921293),\n",
       "       (16.6789566, 74.2214649), (16.7028412, 74.2405329),\n",
       "       (16.645289, 74.2759086), (16.6954715, 74.2500286),\n",
       "       (16.7146964, 74.1837258), (16.6800881, 74.2135654),\n",
       "       (16.7022784, 74.4405684273705), (16.7028412, 74.2405329),\n",
       "       (16.7120318, 74.24504721182578), (16.6950245, 74.2429696),\n",
       "       (16.6980563, 74.21660057966537), (16.7347172, 74.2415868),\n",
       "       (16.7270654, 74.2405886), (16.7028412, 74.2405329),\n",
       "       (16.66455415, 74.28635615376638), (16.6113899, 74.2641513),\n",
       "       (16.6775369, 74.4607998), (16.67809845, 74.24158151376363),\n",
       "       (16.6728452, 74.1983818484429),\n",
       "       (16.708995450000003, 74.26743861486253),\n",
       "       (16.71462455, 74.25526868714147), (16.7028412, 74.2405329),\n",
       "       (16.69506895, 74.26920809774833), (16.2296066, 74.3515868),\n",
       "       (16.8651079, 74.1996968), (16.6924058, 74.222648),\n",
       "       (16.6954655, 74.22462440228439),\n",
       "       (16.695884399999997, 74.22719267538452), (16.860621, 74.2333907)],\n",
       "      dtype=object)"
      ]
     },
     "execution_count": 26,
     "metadata": {},
     "output_type": "execute_result"
    }
   ],
   "source": [
    "np.array(house_locations['geo_loc'])"
   ]
  },
  {
   "cell_type": "code",
   "execution_count": 27,
   "id": "0985ba45",
   "metadata": {},
   "outputs": [],
   "source": [
    "lat,lon=zip(*np.array(house_locations['geo_loc']))"
   ]
  },
  {
   "cell_type": "code",
   "execution_count": 28,
   "id": "83da5d85",
   "metadata": {},
   "outputs": [],
   "source": [
    "house_locations['lat']=lat\n",
    "house_locations['lon']=lon"
   ]
  },
  {
   "cell_type": "code",
   "execution_count": 29,
   "id": "0bbe21fa",
   "metadata": {},
   "outputs": [
    {
     "data": {
      "text/html": [
       "<div>\n",
       "<style scoped>\n",
       "    .dataframe tbody tr th:only-of-type {\n",
       "        vertical-align: middle;\n",
       "    }\n",
       "\n",
       "    .dataframe tbody tr th {\n",
       "        vertical-align: top;\n",
       "    }\n",
       "\n",
       "    .dataframe thead th {\n",
       "        text-align: right;\n",
       "    }\n",
       "</style>\n",
       "<table border=\"1\" class=\"dataframe\">\n",
       "  <thead>\n",
       "    <tr style=\"text-align: right;\">\n",
       "      <th></th>\n",
       "      <th>Name</th>\n",
       "      <th>count</th>\n",
       "      <th>new name</th>\n",
       "      <th>geo_loc</th>\n",
       "      <th>lat</th>\n",
       "      <th>lon</th>\n",
       "    </tr>\n",
       "  </thead>\n",
       "  <tbody>\n",
       "    <tr>\n",
       "      <th>0</th>\n",
       "      <td>Nagala Park</td>\n",
       "      <td>20</td>\n",
       "      <td>Kolhapur Nagala Park</td>\n",
       "      <td>(16.710706950000002, 74.235390277957)</td>\n",
       "      <td>16.710707</td>\n",
       "      <td>74.235390</td>\n",
       "    </tr>\n",
       "    <tr>\n",
       "      <th>1</th>\n",
       "      <td>Tarabai Park</td>\n",
       "      <td>20</td>\n",
       "      <td>Kolhapur Tarabai Park</td>\n",
       "      <td>(16.7120318, 74.24504721182578)</td>\n",
       "      <td>16.712032</td>\n",
       "      <td>74.245047</td>\n",
       "    </tr>\n",
       "    <tr>\n",
       "      <th>2</th>\n",
       "      <td>Phulewadi</td>\n",
       "      <td>18</td>\n",
       "      <td>Kolhapur Phulewadi</td>\n",
       "      <td>(16.689140700000003, 74.18994793989897)</td>\n",
       "      <td>16.689141</td>\n",
       "      <td>74.189948</td>\n",
       "    </tr>\n",
       "    <tr>\n",
       "      <th>3</th>\n",
       "      <td>Kagal</td>\n",
       "      <td>16</td>\n",
       "      <td>Kolhapur Kagal</td>\n",
       "      <td>(16.5750891, 74.3152571)</td>\n",
       "      <td>16.575089</td>\n",
       "      <td>74.315257</td>\n",
       "    </tr>\n",
       "    <tr>\n",
       "      <th>4</th>\n",
       "      <td>Ichalkaranji</td>\n",
       "      <td>15</td>\n",
       "      <td>Kolhapur Ichalkaranji</td>\n",
       "      <td>(16.6959348, 74.4555755)</td>\n",
       "      <td>16.695935</td>\n",
       "      <td>74.455575</td>\n",
       "    </tr>\n",
       "  </tbody>\n",
       "</table>\n",
       "</div>"
      ],
      "text/plain": [
       "            Name  count               new name  \\\n",
       "0    Nagala Park     20   Kolhapur Nagala Park   \n",
       "1   Tarabai Park     20  Kolhapur Tarabai Park   \n",
       "2      Phulewadi     18     Kolhapur Phulewadi   \n",
       "3          Kagal     16         Kolhapur Kagal   \n",
       "4   Ichalkaranji     15  Kolhapur Ichalkaranji   \n",
       "\n",
       "                                   geo_loc        lat        lon  \n",
       "0    (16.710706950000002, 74.235390277957)  16.710707  74.235390  \n",
       "1          (16.7120318, 74.24504721182578)  16.712032  74.245047  \n",
       "2  (16.689140700000003, 74.18994793989897)  16.689141  74.189948  \n",
       "3                 (16.5750891, 74.3152571)  16.575089  74.315257  \n",
       "4                 (16.6959348, 74.4555755)  16.695935  74.455575  "
      ]
     },
     "execution_count": 29,
     "metadata": {},
     "output_type": "execute_result"
    }
   ],
   "source": [
    "house_locations.head()\n"
   ]
  },
  {
   "cell_type": "code",
   "execution_count": 41,
   "id": "963bd833",
   "metadata": {},
   "outputs": [
    {
     "name": "stdout",
     "output_type": "stream",
     "text": [
      "Collecting folium\n",
      "  Downloading folium-0.12.1.post1-py2.py3-none-any.whl (95 kB)\n",
      "Requirement already satisfied: requests in c:\\users\\anton\\anaconda3\\lib\\site-packages (from folium) (2.25.1)\n",
      "Requirement already satisfied: jinja2>=2.9 in c:\\users\\anton\\anaconda3\\lib\\site-packages (from folium) (2.11.3)\n",
      "Requirement already satisfied: numpy in c:\\users\\anton\\anaconda3\\lib\\site-packages (from folium) (1.19.5)\n",
      "Collecting branca>=0.3.0\n",
      "  Downloading branca-0.4.2-py3-none-any.whl (24 kB)\n",
      "Requirement already satisfied: MarkupSafe>=0.23 in c:\\users\\anton\\anaconda3\\lib\\site-packages (from jinja2>=2.9->folium) (1.1.1)\n",
      "Requirement already satisfied: certifi>=2017.4.17 in c:\\users\\anton\\anaconda3\\lib\\site-packages (from requests->folium) (2020.12.5)\n",
      "Requirement already satisfied: idna<3,>=2.5 in c:\\users\\anton\\anaconda3\\lib\\site-packages (from requests->folium) (2.10)\n",
      "Requirement already satisfied: chardet<5,>=3.0.2 in c:\\users\\anton\\anaconda3\\lib\\site-packages (from requests->folium) (4.0.0)\n",
      "Requirement already satisfied: urllib3<1.27,>=1.21.1 in c:\\users\\anton\\anaconda3\\lib\\site-packages (from requests->folium) (1.26.4)\n",
      "Installing collected packages: branca, folium\n",
      "Successfully installed branca-0.4.2 folium-0.12.1.post1\n"
     ]
    }
   ],
   "source": []
  },
  {
   "cell_type": "code",
   "execution_count": 30,
   "id": "697f5895",
   "metadata": {},
   "outputs": [],
   "source": [
    "\n",
    "from folium.plugins import HeatMap\n",
    "basemap=generateBaseMap()"
   ]
  },
  {
   "cell_type": "code",
   "execution_count": 31,
   "id": "b23ad5dc",
   "metadata": {},
   "outputs": [
    {
     "data": {
      "text/html": [
       "<div style=\"width:100%;\"><div style=\"position:relative;width:100%;height:0;padding-bottom:60%;\"><span style=\"color:#565656\">Make this Notebook Trusted to load map: File -> Trust Notebook</span><iframe src=\"about:blank\" style=\"position:absolute;width:100%;height:100%;left:0;top:0;border:none !important;\" data-html=%3C%21DOCTYPE%20html%3E%0A%3Chead%3E%20%20%20%20%0A%20%20%20%20%3Cmeta%20http-equiv%3D%22content-type%22%20content%3D%22text/html%3B%20charset%3DUTF-8%22%20/%3E%0A%20%20%20%20%0A%20%20%20%20%20%20%20%20%3Cscript%3E%0A%20%20%20%20%20%20%20%20%20%20%20%20L_NO_TOUCH%20%3D%20false%3B%0A%20%20%20%20%20%20%20%20%20%20%20%20L_DISABLE_3D%20%3D%20false%3B%0A%20%20%20%20%20%20%20%20%3C/script%3E%0A%20%20%20%20%0A%20%20%20%20%3Cstyle%3Ehtml%2C%20body%20%7Bwidth%3A%20100%25%3Bheight%3A%20100%25%3Bmargin%3A%200%3Bpadding%3A%200%3B%7D%3C/style%3E%0A%20%20%20%20%3Cstyle%3E%23map%20%7Bposition%3Aabsolute%3Btop%3A0%3Bbottom%3A0%3Bright%3A0%3Bleft%3A0%3B%7D%3C/style%3E%0A%20%20%20%20%3Cscript%20src%3D%22https%3A//cdn.jsdelivr.net/npm/leaflet%401.6.0/dist/leaflet.js%22%3E%3C/script%3E%0A%20%20%20%20%3Cscript%20src%3D%22https%3A//code.jquery.com/jquery-1.12.4.min.js%22%3E%3C/script%3E%0A%20%20%20%20%3Cscript%20src%3D%22https%3A//maxcdn.bootstrapcdn.com/bootstrap/3.2.0/js/bootstrap.min.js%22%3E%3C/script%3E%0A%20%20%20%20%3Cscript%20src%3D%22https%3A//cdnjs.cloudflare.com/ajax/libs/Leaflet.awesome-markers/2.0.2/leaflet.awesome-markers.js%22%3E%3C/script%3E%0A%20%20%20%20%3Clink%20rel%3D%22stylesheet%22%20href%3D%22https%3A//cdn.jsdelivr.net/npm/leaflet%401.6.0/dist/leaflet.css%22/%3E%0A%20%20%20%20%3Clink%20rel%3D%22stylesheet%22%20href%3D%22https%3A//maxcdn.bootstrapcdn.com/bootstrap/3.2.0/css/bootstrap.min.css%22/%3E%0A%20%20%20%20%3Clink%20rel%3D%22stylesheet%22%20href%3D%22https%3A//maxcdn.bootstrapcdn.com/bootstrap/3.2.0/css/bootstrap-theme.min.css%22/%3E%0A%20%20%20%20%3Clink%20rel%3D%22stylesheet%22%20href%3D%22https%3A//maxcdn.bootstrapcdn.com/font-awesome/4.6.3/css/font-awesome.min.css%22/%3E%0A%20%20%20%20%3Clink%20rel%3D%22stylesheet%22%20href%3D%22https%3A//cdnjs.cloudflare.com/ajax/libs/Leaflet.awesome-markers/2.0.2/leaflet.awesome-markers.css%22/%3E%0A%20%20%20%20%3Clink%20rel%3D%22stylesheet%22%20href%3D%22https%3A//cdn.jsdelivr.net/gh/python-visualization/folium/folium/templates/leaflet.awesome.rotate.min.css%22/%3E%0A%20%20%20%20%0A%20%20%20%20%20%20%20%20%20%20%20%20%3Cmeta%20name%3D%22viewport%22%20content%3D%22width%3Ddevice-width%2C%0A%20%20%20%20%20%20%20%20%20%20%20%20%20%20%20%20initial-scale%3D1.0%2C%20maximum-scale%3D1.0%2C%20user-scalable%3Dno%22%20/%3E%0A%20%20%20%20%20%20%20%20%20%20%20%20%3Cstyle%3E%0A%20%20%20%20%20%20%20%20%20%20%20%20%20%20%20%20%23map_5ca7c2ad281c45368b991595191d7e8b%20%7B%0A%20%20%20%20%20%20%20%20%20%20%20%20%20%20%20%20%20%20%20%20position%3A%20relative%3B%0A%20%20%20%20%20%20%20%20%20%20%20%20%20%20%20%20%20%20%20%20width%3A%20100.0%25%3B%0A%20%20%20%20%20%20%20%20%20%20%20%20%20%20%20%20%20%20%20%20height%3A%20100.0%25%3B%0A%20%20%20%20%20%20%20%20%20%20%20%20%20%20%20%20%20%20%20%20left%3A%200.0%25%3B%0A%20%20%20%20%20%20%20%20%20%20%20%20%20%20%20%20%20%20%20%20top%3A%200.0%25%3B%0A%20%20%20%20%20%20%20%20%20%20%20%20%20%20%20%20%7D%0A%20%20%20%20%20%20%20%20%20%20%20%20%3C/style%3E%0A%20%20%20%20%20%20%20%20%0A%3C/head%3E%0A%3Cbody%3E%20%20%20%20%0A%20%20%20%20%0A%20%20%20%20%20%20%20%20%20%20%20%20%3Cdiv%20class%3D%22folium-map%22%20id%3D%22map_5ca7c2ad281c45368b991595191d7e8b%22%20%3E%3C/div%3E%0A%20%20%20%20%20%20%20%20%0A%3C/body%3E%0A%3Cscript%3E%20%20%20%20%0A%20%20%20%20%0A%20%20%20%20%20%20%20%20%20%20%20%20var%20map_5ca7c2ad281c45368b991595191d7e8b%20%3D%20L.map%28%0A%20%20%20%20%20%20%20%20%20%20%20%20%20%20%20%20%22map_5ca7c2ad281c45368b991595191d7e8b%22%2C%0A%20%20%20%20%20%20%20%20%20%20%20%20%20%20%20%20%7B%0A%20%20%20%20%20%20%20%20%20%20%20%20%20%20%20%20%20%20%20%20center%3A%20%5B12.97%2C%2077.59%5D%2C%0A%20%20%20%20%20%20%20%20%20%20%20%20%20%20%20%20%20%20%20%20crs%3A%20L.CRS.EPSG3857%2C%0A%20%20%20%20%20%20%20%20%20%20%20%20%20%20%20%20%20%20%20%20zoom%3A%2012%2C%0A%20%20%20%20%20%20%20%20%20%20%20%20%20%20%20%20%20%20%20%20zoomControl%3A%20true%2C%0A%20%20%20%20%20%20%20%20%20%20%20%20%20%20%20%20%20%20%20%20preferCanvas%3A%20false%2C%0A%20%20%20%20%20%20%20%20%20%20%20%20%20%20%20%20%7D%0A%20%20%20%20%20%20%20%20%20%20%20%20%29%3B%0A%0A%20%20%20%20%20%20%20%20%20%20%20%20%0A%0A%20%20%20%20%20%20%20%20%0A%20%20%20%20%0A%20%20%20%20%20%20%20%20%20%20%20%20var%20tile_layer_bf0b3c4291f242f6b681ad2b80cfe863%20%3D%20L.tileLayer%28%0A%20%20%20%20%20%20%20%20%20%20%20%20%20%20%20%20%22https%3A//%7Bs%7D.tile.openstreetmap.org/%7Bz%7D/%7Bx%7D/%7By%7D.png%22%2C%0A%20%20%20%20%20%20%20%20%20%20%20%20%20%20%20%20%7B%22attribution%22%3A%20%22Data%20by%20%5Cu0026copy%3B%20%5Cu003ca%20href%3D%5C%22http%3A//openstreetmap.org%5C%22%5Cu003eOpenStreetMap%5Cu003c/a%5Cu003e%2C%20under%20%5Cu003ca%20href%3D%5C%22http%3A//www.openstreetmap.org/copyright%5C%22%5Cu003eODbL%5Cu003c/a%5Cu003e.%22%2C%20%22detectRetina%22%3A%20false%2C%20%22maxNativeZoom%22%3A%2018%2C%20%22maxZoom%22%3A%2018%2C%20%22minZoom%22%3A%200%2C%20%22noWrap%22%3A%20false%2C%20%22opacity%22%3A%201%2C%20%22subdomains%22%3A%20%22abc%22%2C%20%22tms%22%3A%20false%7D%0A%20%20%20%20%20%20%20%20%20%20%20%20%29.addTo%28map_5ca7c2ad281c45368b991595191d7e8b%29%3B%0A%20%20%20%20%20%20%20%20%0A%3C/script%3E onload=\"this.contentDocument.open();this.contentDocument.write(    decodeURIComponent(this.getAttribute('data-html')));this.contentDocument.close();\" allowfullscreen webkitallowfullscreen mozallowfullscreen></iframe></div></div>"
      ],
      "text/plain": [
       "<folium.folium.Map at 0x288d20dff70>"
      ]
     },
     "execution_count": 31,
     "metadata": {},
     "output_type": "execute_result"
    }
   ],
   "source": [
    "basemap"
   ]
  },
  {
   "cell_type": "code",
   "execution_count": 82,
   "id": "bb563700",
   "metadata": {},
   "outputs": [
    {
     "data": {
      "text/plain": [
       "[[16.7120318, 74.24504721182578, 20.0],\n",
       " [16.710706950000002, 74.235390277957, 20.0],\n",
       " [16.689140700000003, 74.18994793989897, 18.0],\n",
       " [16.5750891, 74.3152571, 16.0],\n",
       " [16.6959348, 74.4555755, 15.0],\n",
       " [18.5243388, 73.8592081, 13.0],\n",
       " [16.67739055, 74.20302141828893, 11.0],\n",
       " [21.2607859, 79.6220913, 11.0],\n",
       " [16.7789886, 74.5564244, 9.0],\n",
       " [16.6945771, 74.2453534, 9.0],\n",
       " [16.6646285, 74.2706915, 8.0],\n",
       " [-4.42125065, 15.337076364914385, 8.0],\n",
       " [16.739368849999998, 74.24528766734676, 8.0],\n",
       " [25.6030053, 85.1623397, 7.0],\n",
       " [17.5489329, 75.7578266, 7.0],\n",
       " [16.6969914, 74.27496020123672, 7.0],\n",
       " [16.72355675, 74.23542939254457, 6.0],\n",
       " [16.67639115, 74.2110183536068, 6.0],\n",
       " [16.8066833, 74.1125979, 6.0],\n",
       " [16.71462455, 74.25526868714147, 5.0],\n",
       " [16.7103509, 74.26236390138304, 5.0],\n",
       " [28.6750317, 77.1304722, 5.0],\n",
       " [16.687633050000002, 74.21570009905508, 5.0],\n",
       " [20.0728013, 78.2501864, 5.0],\n",
       " [52.808826800000006, 6.62444921915651, 4.0],\n",
       " [21.093431, 81.0143459, 4.0],\n",
       " [16.7477491, 74.4211932, 4.0],\n",
       " [16.675854100000002, 74.18953727894649, 4.0],\n",
       " [16.66714985, 74.22638500455321, 4.0],\n",
       " [16.6632879, 74.2427086, 4.0],\n",
       " [16.64340565, 74.2866169318268, 4.0],\n",
       " [16.6969914, 74.27496020123672, 3.0],\n",
       " [-4.8220928, 35.9483582, 3.0],\n",
       " [51.76151125, -0.01184370190823393, 3.0],\n",
       " [20.9933251, 79.8553511, 3.0],\n",
       " [16.253901300000003, 74.11292897934544, 3.0],\n",
       " [13.17749, 5.306557, 3.0],\n",
       " [16.675412350000002, 74.1956534373711, 3.0],\n",
       " [34.0606593, 74.8117017, 3.0],\n",
       " [16.7002439, 74.23651153926126, 3.0],\n",
       " [18.491740800000002, 73.82387797137547, 3.0],\n",
       " [16.704918499999998, 74.2572770874155, 2.0],\n",
       " [16.835267, 74.315172, 2.0],\n",
       " [18.4101755, 74.0038337, 2.0],\n",
       " [20.9213999, 77.7462646, 2.0],\n",
       " [16.6945771, 74.2453534, 2.0],\n",
       " [16.689140700000003, 74.18994793989897, 2.0],\n",
       " [18.5243388, 73.8592081, 2.0],\n",
       " [16.6959348, 74.4555755, 2.0],\n",
       " [16.710261, 74.2690381, 2.0],\n",
       " [13.9326937, 75.5742362, 2.0],\n",
       " [16.7146964, 74.1837258, 2.0],\n",
       " [55.8574273, 26.4062948, 2.0],\n",
       " [16.694686400000002, 74.25021131211362, 2.0],\n",
       " [25.6030053, 85.1623397, 2.0],\n",
       " [23.5859543, 72.3759828, 2.0],\n",
       " [16.68246235, 74.21844383926972, 2.0],\n",
       " [16.7116641, 74.25686584696678, 2.0],\n",
       " [27.7025675, 85.3076074, 1.0],\n",
       " [38.741436, 22.40277, 1.0],\n",
       " [16.685287250000002, 74.2449668924585, 1.0],\n",
       " [20.0139934, 73.758596, 1.0],\n",
       " [14.6985959, 121.0779369, 1.0],\n",
       " [16.6646285, 74.2706915, 1.0],\n",
       " [-29.3113588, 27.4829475, 1.0],\n",
       " [16.6321827, 74.3318975, 1.0],\n",
       " [16.6980563, 74.21660057966537, 1.0],\n",
       " [16.24932255, 74.142230886515, 1.0],\n",
       " [26.1191649, 72.4489975, 1.0],\n",
       " [16.687976149999997, 74.21034606988948, 1.0],\n",
       " [16.6775369, 74.4607998, 1.0],\n",
       " [15.90143005, 74.24056205272171, 1.0],\n",
       " [21.2607859, 79.6220913, 1.0],\n",
       " [20.0139934, 73.758596, 1.0],\n",
       " [19.9077326, 74.5125212, 1.0],\n",
       " [16.6954655, 74.22462440228439, 1.0],\n",
       " [-1.9149678, 136.3514952, 1.0],\n",
       " [19.1088244, 72.9148393, 1.0],\n",
       " [16.7028412, 74.2405329, 1.0],\n",
       " [29.3438006, 79.5698118, 1.0],\n",
       " [16.66714985, 74.22638500455321, 1.0],\n",
       " [16.68161975, 74.18986522255413, 1.0],\n",
       " [16.69082835, 74.22017802932126, 1.0],\n",
       " [18.6080927, 73.8208678, 1.0],\n",
       " [19.7496393, 78.4565556, 1.0],\n",
       " [24.945363, 73.5409033, 1.0],\n",
       " [16.6106793, 74.3280007, 1.0],\n",
       " [11.6032145, 92.686428, 1.0],\n",
       " [44.3009121, 7.6849, 1.0],\n",
       " [16.6924058, 74.222648, 1.0],\n",
       " [16.835267, 74.315172, 1.0],\n",
       " [19.1205119, 72.8646365, 1.0],\n",
       " [16.6901897, 74.4441085, 1.0],\n",
       " [19.1757787, 72.9728796, 1.0],\n",
       " [16.7347172, 74.2415868, 1.0],\n",
       " [16.7116641, 74.25686584696678, 1.0],\n",
       " [17.2465297, 80.143697, 1.0],\n",
       " [16.687976149999997, 74.21034606988948, 1.0],\n",
       " [16.6950978, 73.6373448, 1.0],\n",
       " [29.3438006, 79.5698118, 1.0],\n",
       " [18.5600234, 74.3736219, 1.0],\n",
       " [16.6728452, 74.1983818484429, 1.0],\n",
       " [16.7347172, 74.2415868, 1.0],\n",
       " [16.6789566, 74.2214649, 1.0],\n",
       " [16.71462455, 74.25526868714147, 1.0],\n",
       " [18.4101755, 74.0038337, 1.0],\n",
       " [18.491740800000002, 73.82387797137547, 1.0],\n",
       " [16.695884399999997, 74.22719267538452, 1.0],\n",
       " [18.7424898, 73.6365315, 1.0],\n",
       " [16.8066833, 74.1125979, 1.0],\n",
       " [52.4013906, 13.015877296617377, 1.0],\n",
       " [19.1776516, 72.9804826, 1.0],\n",
       " [12.98968585, 77.7161743275594, 1.0],\n",
       " [17.8505065, 74.6377643, 1.0],\n",
       " [16.8651079, 74.1996968, 1.0],\n",
       " [16.7103509, 74.26236390138304, 1.0],\n",
       " [16.685287250000002, 74.2449668924585, 1.0],\n",
       " [19.1088244, 72.9148393, 1.0],\n",
       " [30.5728342, 75.6934132, 1.0],\n",
       " [16.69506895, 74.26920809774833, 1.0],\n",
       " [16.7022784, 74.4405684273705, 1.0],\n",
       " [23.5859543, 72.3759828, 1.0],\n",
       " [16.70638695, 74.23646958057115, 1.0],\n",
       " [17.2497073, 80.148008, 1.0],\n",
       " [19.1918451, 72.8584051, 1.0],\n",
       " [19.267645, 73.1718625, 1.0],\n",
       " [18.5156688, 73.8556093, 1.0],\n",
       " [15.5236618, 74.4626664, 1.0],\n",
       " [22.4757928, 70.05932851082616, 1.0],\n",
       " [19.9077326, 74.5125212, 1.0],\n",
       " [24.8587768, 67.0306067, 1.0],\n",
       " [16.7028412, 74.2405329, 1.0],\n",
       " [16.14090075, 74.40369325283643, 1.0],\n",
       " [28.6941589, 77.190947, 1.0],\n",
       " [16.694496, 74.2430941, 1.0],\n",
       " [18.3593969, 74.1291596, 1.0],\n",
       " [16.6594492, 74.2414732538765, 1.0],\n",
       " [16.695884399999997, 74.22719267538452, 1.0],\n",
       " [19.075784, 72.9952364, 1.0],\n",
       " [16.6113899, 74.2641513, 1.0],\n",
       " [23.2232877, 72.6492267, 1.0],\n",
       " [23.7538523, 90.4148122, 1.0],\n",
       " [16.70638695, 74.23646958057115, 1.0],\n",
       " [17.4828497, 78.4128695, 1.0],\n",
       " [0.2605073, 32.2083467, 1.0],\n",
       " [16.7146964, 74.1837258, 1.0],\n",
       " [10.830449999999999, 75.91355979399486, 1.0],\n",
       " [16.7120318, 74.24504721182578, 1.0],\n",
       " [16.6950245, 74.2429696, 1.0],\n",
       " [16.708995450000003, 74.26743861486253, 1.0],\n",
       " [17.67440845, 75.91318521904361, 1.0],\n",
       " [26.1363847, 91.797288, 1.0]]"
      ]
     },
     "execution_count": 82,
     "metadata": {},
     "output_type": "execute_result"
    }
   ],
   "source": [
    "house_locations[['lat','lon','count']].values.tolist()"
   ]
  },
  {
   "cell_type": "code",
   "execution_count": 32,
   "id": "3b5481d3",
   "metadata": {},
   "outputs": [
    {
     "data": {
      "text/plain": [
       "<folium.plugins.heat_map.HeatMap at 0x288d20df760>"
      ]
     },
     "execution_count": 32,
     "metadata": {},
     "output_type": "execute_result"
    }
   ],
   "source": [
    "HeatMap(house_locations[['lat','lon','count']].values.tolist(),zoom=20,radius=15).add_to(basemap)"
   ]
  },
  {
   "cell_type": "code",
   "execution_count": 33,
   "id": "95ab4826",
   "metadata": {
    "scrolled": true
   },
   "outputs": [
    {
     "data": {
      "text/html": [
       "<div style=\"width:100%;\"><div style=\"position:relative;width:100%;height:0;padding-bottom:60%;\"><span style=\"color:#565656\">Make this Notebook Trusted to load map: File -> Trust Notebook</span><iframe src=\"about:blank\" style=\"position:absolute;width:100%;height:100%;left:0;top:0;border:none !important;\" data-html=%3C%21DOCTYPE%20html%3E%0A%3Chead%3E%20%20%20%20%0A%20%20%20%20%3Cmeta%20http-equiv%3D%22content-type%22%20content%3D%22text/html%3B%20charset%3DUTF-8%22%20/%3E%0A%20%20%20%20%0A%20%20%20%20%20%20%20%20%3Cscript%3E%0A%20%20%20%20%20%20%20%20%20%20%20%20L_NO_TOUCH%20%3D%20false%3B%0A%20%20%20%20%20%20%20%20%20%20%20%20L_DISABLE_3D%20%3D%20false%3B%0A%20%20%20%20%20%20%20%20%3C/script%3E%0A%20%20%20%20%0A%20%20%20%20%3Cstyle%3Ehtml%2C%20body%20%7Bwidth%3A%20100%25%3Bheight%3A%20100%25%3Bmargin%3A%200%3Bpadding%3A%200%3B%7D%3C/style%3E%0A%20%20%20%20%3Cstyle%3E%23map%20%7Bposition%3Aabsolute%3Btop%3A0%3Bbottom%3A0%3Bright%3A0%3Bleft%3A0%3B%7D%3C/style%3E%0A%20%20%20%20%3Cscript%20src%3D%22https%3A//cdn.jsdelivr.net/npm/leaflet%401.6.0/dist/leaflet.js%22%3E%3C/script%3E%0A%20%20%20%20%3Cscript%20src%3D%22https%3A//code.jquery.com/jquery-1.12.4.min.js%22%3E%3C/script%3E%0A%20%20%20%20%3Cscript%20src%3D%22https%3A//maxcdn.bootstrapcdn.com/bootstrap/3.2.0/js/bootstrap.min.js%22%3E%3C/script%3E%0A%20%20%20%20%3Cscript%20src%3D%22https%3A//cdnjs.cloudflare.com/ajax/libs/Leaflet.awesome-markers/2.0.2/leaflet.awesome-markers.js%22%3E%3C/script%3E%0A%20%20%20%20%3Clink%20rel%3D%22stylesheet%22%20href%3D%22https%3A//cdn.jsdelivr.net/npm/leaflet%401.6.0/dist/leaflet.css%22/%3E%0A%20%20%20%20%3Clink%20rel%3D%22stylesheet%22%20href%3D%22https%3A//maxcdn.bootstrapcdn.com/bootstrap/3.2.0/css/bootstrap.min.css%22/%3E%0A%20%20%20%20%3Clink%20rel%3D%22stylesheet%22%20href%3D%22https%3A//maxcdn.bootstrapcdn.com/bootstrap/3.2.0/css/bootstrap-theme.min.css%22/%3E%0A%20%20%20%20%3Clink%20rel%3D%22stylesheet%22%20href%3D%22https%3A//maxcdn.bootstrapcdn.com/font-awesome/4.6.3/css/font-awesome.min.css%22/%3E%0A%20%20%20%20%3Clink%20rel%3D%22stylesheet%22%20href%3D%22https%3A//cdnjs.cloudflare.com/ajax/libs/Leaflet.awesome-markers/2.0.2/leaflet.awesome-markers.css%22/%3E%0A%20%20%20%20%3Clink%20rel%3D%22stylesheet%22%20href%3D%22https%3A//cdn.jsdelivr.net/gh/python-visualization/folium/folium/templates/leaflet.awesome.rotate.min.css%22/%3E%0A%20%20%20%20%0A%20%20%20%20%20%20%20%20%20%20%20%20%3Cmeta%20name%3D%22viewport%22%20content%3D%22width%3Ddevice-width%2C%0A%20%20%20%20%20%20%20%20%20%20%20%20%20%20%20%20initial-scale%3D1.0%2C%20maximum-scale%3D1.0%2C%20user-scalable%3Dno%22%20/%3E%0A%20%20%20%20%20%20%20%20%20%20%20%20%3Cstyle%3E%0A%20%20%20%20%20%20%20%20%20%20%20%20%20%20%20%20%23map_5ca7c2ad281c45368b991595191d7e8b%20%7B%0A%20%20%20%20%20%20%20%20%20%20%20%20%20%20%20%20%20%20%20%20position%3A%20relative%3B%0A%20%20%20%20%20%20%20%20%20%20%20%20%20%20%20%20%20%20%20%20width%3A%20100.0%25%3B%0A%20%20%20%20%20%20%20%20%20%20%20%20%20%20%20%20%20%20%20%20height%3A%20100.0%25%3B%0A%20%20%20%20%20%20%20%20%20%20%20%20%20%20%20%20%20%20%20%20left%3A%200.0%25%3B%0A%20%20%20%20%20%20%20%20%20%20%20%20%20%20%20%20%20%20%20%20top%3A%200.0%25%3B%0A%20%20%20%20%20%20%20%20%20%20%20%20%20%20%20%20%7D%0A%20%20%20%20%20%20%20%20%20%20%20%20%3C/style%3E%0A%20%20%20%20%20%20%20%20%0A%20%20%20%20%3Cscript%20src%3D%22https%3A//cdn.jsdelivr.net/gh/python-visualization/folium%40master/folium/templates/leaflet_heat.min.js%22%3E%3C/script%3E%0A%3C/head%3E%0A%3Cbody%3E%20%20%20%20%0A%20%20%20%20%0A%20%20%20%20%20%20%20%20%20%20%20%20%3Cdiv%20class%3D%22folium-map%22%20id%3D%22map_5ca7c2ad281c45368b991595191d7e8b%22%20%3E%3C/div%3E%0A%20%20%20%20%20%20%20%20%0A%3C/body%3E%0A%3Cscript%3E%20%20%20%20%0A%20%20%20%20%0A%20%20%20%20%20%20%20%20%20%20%20%20var%20map_5ca7c2ad281c45368b991595191d7e8b%20%3D%20L.map%28%0A%20%20%20%20%20%20%20%20%20%20%20%20%20%20%20%20%22map_5ca7c2ad281c45368b991595191d7e8b%22%2C%0A%20%20%20%20%20%20%20%20%20%20%20%20%20%20%20%20%7B%0A%20%20%20%20%20%20%20%20%20%20%20%20%20%20%20%20%20%20%20%20center%3A%20%5B12.97%2C%2077.59%5D%2C%0A%20%20%20%20%20%20%20%20%20%20%20%20%20%20%20%20%20%20%20%20crs%3A%20L.CRS.EPSG3857%2C%0A%20%20%20%20%20%20%20%20%20%20%20%20%20%20%20%20%20%20%20%20zoom%3A%2012%2C%0A%20%20%20%20%20%20%20%20%20%20%20%20%20%20%20%20%20%20%20%20zoomControl%3A%20true%2C%0A%20%20%20%20%20%20%20%20%20%20%20%20%20%20%20%20%20%20%20%20preferCanvas%3A%20false%2C%0A%20%20%20%20%20%20%20%20%20%20%20%20%20%20%20%20%7D%0A%20%20%20%20%20%20%20%20%20%20%20%20%29%3B%0A%0A%20%20%20%20%20%20%20%20%20%20%20%20%0A%0A%20%20%20%20%20%20%20%20%0A%20%20%20%20%0A%20%20%20%20%20%20%20%20%20%20%20%20var%20tile_layer_bf0b3c4291f242f6b681ad2b80cfe863%20%3D%20L.tileLayer%28%0A%20%20%20%20%20%20%20%20%20%20%20%20%20%20%20%20%22https%3A//%7Bs%7D.tile.openstreetmap.org/%7Bz%7D/%7Bx%7D/%7By%7D.png%22%2C%0A%20%20%20%20%20%20%20%20%20%20%20%20%20%20%20%20%7B%22attribution%22%3A%20%22Data%20by%20%5Cu0026copy%3B%20%5Cu003ca%20href%3D%5C%22http%3A//openstreetmap.org%5C%22%5Cu003eOpenStreetMap%5Cu003c/a%5Cu003e%2C%20under%20%5Cu003ca%20href%3D%5C%22http%3A//www.openstreetmap.org/copyright%5C%22%5Cu003eODbL%5Cu003c/a%5Cu003e.%22%2C%20%22detectRetina%22%3A%20false%2C%20%22maxNativeZoom%22%3A%2018%2C%20%22maxZoom%22%3A%2018%2C%20%22minZoom%22%3A%200%2C%20%22noWrap%22%3A%20false%2C%20%22opacity%22%3A%201%2C%20%22subdomains%22%3A%20%22abc%22%2C%20%22tms%22%3A%20false%7D%0A%20%20%20%20%20%20%20%20%20%20%20%20%29.addTo%28map_5ca7c2ad281c45368b991595191d7e8b%29%3B%0A%20%20%20%20%20%20%20%20%0A%20%20%20%20%0A%20%20%20%20%20%20%20%20%20%20%20%20var%20heat_map_3866406234f44ba187171cb2a7bfbbfb%20%3D%20L.heatLayer%28%0A%20%20%20%20%20%20%20%20%20%20%20%20%20%20%20%20%5B%5B16.710706950000002%2C%2074.235390277957%2C%2020.0%5D%2C%20%5B16.7120318%2C%2074.24504721182578%2C%2020.0%5D%2C%20%5B16.689140700000003%2C%2074.18994793989897%2C%2018.0%5D%2C%20%5B16.5750891%2C%2074.3152571%2C%2016.0%5D%2C%20%5B16.6959348%2C%2074.4555755%2C%2015.0%5D%2C%20%5B16.68984515%2C%2074.22818893562221%2C%2013.0%5D%2C%20%5B16.66305315%2C%2074.226392786211%2C%2011.0%5D%2C%20%5B16.67739055%2C%2074.20302141828893%2C%2011.0%5D%2C%20%5B16.7789886%2C%2074.5564244%2C%209.0%5D%2C%20%5B16.6945771%2C%2074.2453534%2C%209.0%5D%2C%20%5B16.6646285%2C%2074.2706915%2C%208.0%5D%2C%20%5B16.9713255%2C%2073.7979743%2C%208.0%5D%2C%20%5B16.739368849999998%2C%2074.24528766734676%2C%208.0%5D%2C%20%5B16.6969914%2C%2074.27496020123672%2C%207.0%5D%2C%20%5B16.67126965%2C%2074.24407155695798%2C%207.0%5D%2C%20%5B16.67639115%2C%2074.2110183536068%2C%206.0%5D%2C%20%5B16.72355675%2C%2074.23542939254457%2C%206.0%5D%2C%20%5B16.8066833%2C%2074.1125979%2C%206.0%5D%2C%20%5B16.763223850000003%2C%2074.27279355145322%2C%205.0%5D%2C%20%5B16.71462455%2C%2074.25526868714147%2C%205.0%5D%2C%20%5B16.7103509%2C%2074.26236390138304%2C%205.0%5D%2C%20%5B16.7028406%2C%2074.2480168%2C%205.0%5D%2C%20%5B16.687633050000002%2C%2074.21570009905508%2C%205.0%5D%2C%20%5B16.66714985%2C%2074.22638500455321%2C%204.0%5D%2C%20%5B16.685289349999998%2C%2074.20214578813312%2C%204.0%5D%2C%20%5B16.6895986%2C%2074.1725766%2C%204.0%5D%2C%20%5B16.6632879%2C%2074.2427086%2C%204.0%5D%2C%20%5B16.64340565%2C%2074.2866169318268%2C%204.0%5D%2C%20%5B16.7477491%2C%2074.4211932%2C%204.0%5D%2C%20%5B16.675854100000002%2C%2074.18953727894649%2C%204.0%5D%2C%20%5B16.675412350000002%2C%2074.1956534373711%2C%203.0%5D%2C%20%5B16.7002439%2C%2074.23651153926126%2C%203.0%5D%2C%20%5B16.6265595%2C%2074.28009988443821%2C%203.0%5D%2C%20%5B16.671078100000003%2C%2074.22461217822632%2C%203.0%5D%2C%20%5B16.253901300000003%2C%2074.11292897934544%2C%203.0%5D%2C%20%5B16.6798314%2C%2074.23080535214832%2C%203.0%5D%2C%20%5B16.8750463%2C%2074.1901147%2C%202.0%5D%2C%20%5B16.68246235%2C%2074.21844383926972%2C%202.0%5D%2C%20%5B16.710261%2C%2074.2690381%2C%202.0%5D%2C%20%5B16.680660500000002%2C%2074.24367749718321%2C%202.0%5D%2C%20%5B16.835267%2C%2074.315172%2C%202.0%5D%2C%20%5B16.7028412%2C%2074.2405329%2C%202.0%5D%2C%20%5B16.7146964%2C%2074.1837258%2C%202.0%5D%2C%20%5B16.694686400000002%2C%2074.25021131211362%2C%202.0%5D%2C%20%5B16.685287250000002%2C%2074.2449668924585%2C%201.0%5D%2C%20%5B16.14090075%2C%2074.40369325283643%2C%201.0%5D%2C%20%5B16.6760121%2C%2073.9724872%2C%201.0%5D%2C%20%5B16.7632072%2C%2074.274587%2C%201.0%5D%2C%20%5B16.687976149999997%2C%2074.21034606988948%2C%201.0%5D%2C%20%5B16.6321827%2C%2074.3318975%2C%201.0%5D%2C%20%5B16.6632815%2C%2074.2691946%2C%201.0%5D%2C%20%5B16.694496%2C%2074.2430941%2C%201.0%5D%2C%20%5B15.90143005%2C%2074.24056205272171%2C%201.0%5D%2C%20%5B16.6968175%2C%2074.2206768%2C%201.0%5D%2C%20%5B16.7116641%2C%2074.25686584696678%2C%201.0%5D%2C%20%5B16.71761415%2C%2074.23161787841104%2C%201.0%5D%2C%20%5B16.24932255%2C%2074.142230886515%2C%201.0%5D%2C%20%5B16.70042385%2C%2074.22149119893842%2C%201.0%5D%2C%20%5B16.6904229%2C%2074.20533411482413%2C%201.0%5D%2C%20%5B16.67089955%2C%2074.23441154426975%2C%201.0%5D%2C%20%5B16.739368849999998%2C%2074.24528766734676%2C%201.0%5D%2C%20%5B16.70638695%2C%2074.23646958057115%2C%201.0%5D%2C%20%5B16.695884399999997%2C%2074.22719267538452%2C%201.0%5D%2C%20%5B16.68161975%2C%2074.18986522255413%2C%201.0%5D%2C%20%5B16.740931%2C%2074.5921293%2C%201.0%5D%2C%20%5B16.6789566%2C%2074.2214649%2C%201.0%5D%2C%20%5B16.7028412%2C%2074.2405329%2C%201.0%5D%2C%20%5B16.645289%2C%2074.2759086%2C%201.0%5D%2C%20%5B16.6954715%2C%2074.2500286%2C%201.0%5D%2C%20%5B16.7146964%2C%2074.1837258%2C%201.0%5D%2C%20%5B16.6800881%2C%2074.2135654%2C%201.0%5D%2C%20%5B16.7022784%2C%2074.4405684273705%2C%201.0%5D%2C%20%5B16.7028412%2C%2074.2405329%2C%201.0%5D%2C%20%5B16.7120318%2C%2074.24504721182578%2C%201.0%5D%2C%20%5B16.6950245%2C%2074.2429696%2C%201.0%5D%2C%20%5B16.6980563%2C%2074.21660057966537%2C%201.0%5D%2C%20%5B16.7347172%2C%2074.2415868%2C%201.0%5D%2C%20%5B16.7270654%2C%2074.2405886%2C%201.0%5D%2C%20%5B16.7028412%2C%2074.2405329%2C%201.0%5D%2C%20%5B16.66455415%2C%2074.28635615376638%2C%201.0%5D%2C%20%5B16.6113899%2C%2074.2641513%2C%201.0%5D%2C%20%5B16.6775369%2C%2074.4607998%2C%201.0%5D%2C%20%5B16.67809845%2C%2074.24158151376363%2C%201.0%5D%2C%20%5B16.6728452%2C%2074.1983818484429%2C%201.0%5D%2C%20%5B16.708995450000003%2C%2074.26743861486253%2C%201.0%5D%2C%20%5B16.71462455%2C%2074.25526868714147%2C%201.0%5D%2C%20%5B16.7028412%2C%2074.2405329%2C%201.0%5D%2C%20%5B16.69506895%2C%2074.26920809774833%2C%201.0%5D%2C%20%5B16.2296066%2C%2074.3515868%2C%201.0%5D%2C%20%5B16.8651079%2C%2074.1996968%2C%201.0%5D%2C%20%5B16.6924058%2C%2074.222648%2C%201.0%5D%2C%20%5B16.6954655%2C%2074.22462440228439%2C%201.0%5D%2C%20%5B16.695884399999997%2C%2074.22719267538452%2C%201.0%5D%2C%20%5B16.860621%2C%2074.2333907%2C%201.0%5D%5D%2C%0A%20%20%20%20%20%20%20%20%20%20%20%20%20%20%20%20%7B%22blur%22%3A%2015%2C%20%22maxZoom%22%3A%2018%2C%20%22minOpacity%22%3A%200.5%2C%20%22radius%22%3A%2015%2C%20%22zoom%22%3A%2020%7D%0A%20%20%20%20%20%20%20%20%20%20%20%20%29.addTo%28map_5ca7c2ad281c45368b991595191d7e8b%29%3B%0A%20%20%20%20%20%20%20%20%0A%3C/script%3E onload=\"this.contentDocument.open();this.contentDocument.write(    decodeURIComponent(this.getAttribute('data-html')));this.contentDocument.close();\" allowfullscreen webkitallowfullscreen mozallowfullscreen></iframe></div></div>"
      ],
      "text/plain": [
       "<folium.folium.Map at 0x288d20dff70>"
      ]
     },
     "execution_count": 33,
     "metadata": {},
     "output_type": "execute_result"
    }
   ],
   "source": [
    "basemap\n"
   ]
  },
  {
   "cell_type": "code",
   "execution_count": 34,
   "id": "05b60893",
   "metadata": {},
   "outputs": [],
   "source": [
    "X=df.drop(\"Price(Rs)\",axis=\"columns\")"
   ]
  },
  {
   "cell_type": "code",
   "execution_count": 87,
   "id": "3553ce56",
   "metadata": {},
   "outputs": [
    {
     "name": "stderr",
     "output_type": "stream",
     "text": [
      "C:\\Users\\anton\\anaconda3\\lib\\site-packages\\seaborn\\distributions.py:2557: FutureWarning: `distplot` is a deprecated function and will be removed in a future version. Please adapt your code to use either `displot` (a figure-level function with similar flexibility) or `histplot` (an axes-level function for histograms).\n",
      "  warnings.warn(msg, FutureWarning)\n"
     ]
    },
    {
     "data": {
      "text/plain": [
       "<AxesSubplot:xlabel='Price(Rs)', ylabel='Density'>"
      ]
     },
     "execution_count": 87,
     "metadata": {},
     "output_type": "execute_result"
    },
    {
     "data": {
      "image/png": "[encoded data removed]",
      "text/plain": [
       "<Figure size 432x288 with 1 Axes>"
      ]
     },
     "metadata": {},
     "output_type": "display_data"
    }
   ],
   "source": [
    "import seaborn as sns\n",
    "sns.set_style(style='whitegrid')\n",
    "sns.distplot(df['Price(Rs)'])"
   ]
  },
  {
   "cell_type": "code",
   "execution_count": 92,
   "id": "1424ff0a",
   "metadata": {},
   "outputs": [
    {
     "data": {
      "text/plain": [
       "Text(0.5, 0, 'Number of outlets')"
      ]
     },
     "execution_count": 92,
     "metadata": {},
     "output_type": "execute_result"
    },
    {
     "data": {
      "image/png": "[encoded data removed]",
      "text/plain": [
       "<Figure size 720x504 with 1 Axes>"
      ]
     },
     "metadata": {},
     "output_type": "display_data"
    }
   ],
   "source": [
    "plt.figure(figsize=(10,7))\n",
    "chains=df['Location'].value_counts()[0:20]\n",
    "sns.barplot(x=chains,y=chains.index,palette='deep') \n",
    "plt.title(\"Most common location for flats in Kolhapur\")\n",
    "plt.xlabel(\"Number of outlets\") "
   ]
  },
  {
   "cell_type": "code",
   "execution_count": 105,
   "id": "5581cf5a",
   "metadata": {},
   "outputs": [
    {
     "data": {
      "image/png": "[encoded data removed]",
      "text/plain": [
       "<Figure size 1440x1440 with 1 Axes>"
      ]
     },
     "metadata": {},
     "output_type": "display_data"
    }
   ],
   "source": [
    "plt.figure(figsize=(20,20))\n",
    "df['Price(Rs)'].value_counts().nlargest(10).plot.bar(color='blue')\n",
    "plt.gcf().autofmt_xdate()"
   ]
  },
  {
   "cell_type": "code",
   "execution_count": 35,
   "id": "7154fdf7",
   "metadata": {},
   "outputs": [
    {
     "data": {
      "text/html": [
       "<div>\n",
       "<style scoped>\n",
       "    .dataframe tbody tr th:only-of-type {\n",
       "        vertical-align: middle;\n",
       "    }\n",
       "\n",
       "    .dataframe tbody tr th {\n",
       "        vertical-align: top;\n",
       "    }\n",
       "\n",
       "    .dataframe thead th {\n",
       "        text-align: right;\n",
       "    }\n",
       "</style>\n",
       "<table border=\"1\" class=\"dataframe\">\n",
       "  <thead>\n",
       "    <tr style=\"text-align: right;\">\n",
       "      <th></th>\n",
       "      <th>Location</th>\n",
       "      <th>squarefeet</th>\n",
       "      <th>Bed</th>\n",
       "    </tr>\n",
       "  </thead>\n",
       "  <tbody>\n",
       "    <tr>\n",
       "      <th>0</th>\n",
       "      <td>E Ward</td>\n",
       "      <td>1243</td>\n",
       "      <td>3</td>\n",
       "    </tr>\n",
       "    <tr>\n",
       "      <th>1</th>\n",
       "      <td>Panhala</td>\n",
       "      <td>1500</td>\n",
       "      <td>2</td>\n",
       "    </tr>\n",
       "    <tr>\n",
       "      <th>2</th>\n",
       "      <td>Kathali</td>\n",
       "      <td>2831500</td>\n",
       "      <td>2</td>\n",
       "    </tr>\n",
       "    <tr>\n",
       "      <th>3</th>\n",
       "      <td>Phulewadi</td>\n",
       "      <td>1800</td>\n",
       "      <td>2</td>\n",
       "    </tr>\n",
       "    <tr>\n",
       "      <th>4</th>\n",
       "      <td>Kadamwadi</td>\n",
       "      <td>1200</td>\n",
       "      <td>2</td>\n",
       "    </tr>\n",
       "    <tr>\n",
       "      <th>...</th>\n",
       "      <td>...</td>\n",
       "      <td>...</td>\n",
       "      <td>...</td>\n",
       "    </tr>\n",
       "    <tr>\n",
       "      <th>552</th>\n",
       "      <td>Deokar Panand</td>\n",
       "      <td>979</td>\n",
       "      <td>2</td>\n",
       "    </tr>\n",
       "    <tr>\n",
       "      <th>553</th>\n",
       "      <td>Pachgaon</td>\n",
       "      <td>550</td>\n",
       "      <td>1</td>\n",
       "    </tr>\n",
       "    <tr>\n",
       "      <th>554</th>\n",
       "      <td>Mahadik Vasahat</td>\n",
       "      <td>850</td>\n",
       "      <td>2</td>\n",
       "    </tr>\n",
       "    <tr>\n",
       "      <th>555</th>\n",
       "      <td>Tarabai Park</td>\n",
       "      <td>1250</td>\n",
       "      <td>2</td>\n",
       "    </tr>\n",
       "    <tr>\n",
       "      <th>556</th>\n",
       "      <td>Rajarampuri</td>\n",
       "      <td>3800</td>\n",
       "      <td>4</td>\n",
       "    </tr>\n",
       "  </tbody>\n",
       "</table>\n",
       "<p>557 rows × 3 columns</p>\n",
       "</div>"
      ],
      "text/plain": [
       "             Location  squarefeet  Bed\n",
       "0              E Ward        1243    3\n",
       "1             Panhala        1500    2\n",
       "2             Kathali     2831500    2\n",
       "3           Phulewadi        1800    2\n",
       "4           Kadamwadi        1200    2\n",
       "..                ...         ...  ...\n",
       "552     Deokar Panand         979    2\n",
       "553          Pachgaon         550    1\n",
       "554   Mahadik Vasahat         850    2\n",
       "555      Tarabai Park        1250    2\n",
       "556       Rajarampuri        3800    4\n",
       "\n",
       "[557 rows x 3 columns]"
      ]
     },
     "execution_count": 35,
     "metadata": {},
     "output_type": "execute_result"
    }
   ],
   "source": [
    "X"
   ]
  },
  {
   "cell_type": "code",
   "execution_count": 104,
   "id": "aacdfe96",
   "metadata": {},
   "outputs": [
    {
     "data": {
      "text/plain": [
       "count    5.570000e+02\n",
       "mean     6.862693e+06\n",
       "std      1.504624e+07\n",
       "min      1.200000e+05\n",
       "25%      2.500000e+06\n",
       "50%      3.900000e+06\n",
       "75%      6.200000e+06\n",
       "max      2.100000e+08\n",
       "Name: Price(Rs), dtype: float64"
      ]
     },
     "execution_count": 104,
     "metadata": {},
     "output_type": "execute_result"
    }
   ],
   "source": [
    "df['Price(Rs)'].describe()"
   ]
  },
  {
   "cell_type": "code",
   "execution_count": 21,
   "id": "31c8965c",
   "metadata": {},
   "outputs": [],
   "source": [
    "Y=df[\"Price(Rs)\"]"
   ]
  },
  {
   "cell_type": "code",
   "execution_count": 22,
   "id": "24a6a470",
   "metadata": {},
   "outputs": [
    {
     "data": {
      "text/plain": [
       "(557,)"
      ]
     },
     "execution_count": 22,
     "metadata": {},
     "output_type": "execute_result"
    }
   ],
   "source": [
    "Y.shape"
   ]
  },
  {
   "cell_type": "code",
   "execution_count": 23,
   "id": "45f7ffdb",
   "metadata": {},
   "outputs": [],
   "source": [
    "from sklearn.model_selection import train_test_split\n",
    "X_train,X_test,y_train,y_test=train_test_split(X,Y,test_size=0.2,random_state=10)"
   ]
  },
  {
   "cell_type": "code",
   "execution_count": 24,
   "id": "2a0e0189",
   "metadata": {},
   "outputs": [
    {
     "data": {
      "text/plain": [
       "LinearRegression()"
      ]
     },
     "execution_count": 24,
     "metadata": {},
     "output_type": "execute_result"
    }
   ],
   "source": [
    "from sklearn.linear_model import LinearRegression\n",
    "model=LinearRegression()\n",
    "model.fit(X_train,y_train)\n"
   ]
  },
  {
   "cell_type": "code",
   "execution_count": 25,
   "id": "810a6975",
   "metadata": {},
   "outputs": [
    {
     "data": {
      "text/plain": [
       "array([ 9420461.3393351 ,  1903088.52088851,  5667664.12497048,\n",
       "        1908271.01236414,  5661303.79452311,  5654001.19289836,\n",
       "        1903088.52088851,  5682552.00957319,  5630444.41346369,\n",
       "        1903088.52088851,  9718487.91655769,  9400202.50902128,\n",
       "        6098470.50727187,  5745872.63269361,  1909354.62421813,\n",
       "        1895550.35146941,  5651645.5149549 ,  5661068.22672877,\n",
       "        6108647.03598765,  6383507.53843147,  5633271.22699585,\n",
       "        9404913.86490821,  1903088.52088851,  5638312.37779487,\n",
       "        5659466.36572721,  5679913.65027651,  5656356.87084183,\n",
       "        5734565.37856496,  5698759.07382425,  5656356.87084183,\n",
       "        5637511.44729409,  5684625.00616344,  5639395.98964886,\n",
       "        5642222.80318102,  1903559.6564772 ,  5651645.5149549 ,\n",
       "       28154765.86907054,  5661680.70299407, 13208829.29064609,\n",
       "       13148759.50308767,  5755295.34446748,  5739418.07512851,\n",
       "        5716662.22619461,  5639395.98964886,  5684625.00616344,\n",
       "        5736638.37515521,  5649289.83701143,  5731738.5650328 ,\n",
       "        9421026.70204153,  5665779.5826157 ,  5665214.21990927,\n",
       "        5651645.5149549 ,  1898377.16500157,  5661162.45384651,\n",
       "        5660408.6369046 ,  5662481.63349485,  5646934.15906796,\n",
       "        5654943.46407575,  2025583.77394884,  5655885.73525314,\n",
       "        1900732.84294504,  5658712.5487853 ,  5662010.49790615,\n",
       "        9402369.73272927,  5667993.91988256,  5656356.87084183,\n",
       "        9423759.28845596,  1899319.43617896,  5662293.17925937,\n",
       "        5823610.00482804,  5657534.70981357,  5646934.15906796,\n",
       "        1902146.24971112,  1898848.30059027,  5716520.885518  ,\n",
       "        5661963.38434728,  5614472.91700697,  5649289.83701143,\n",
       "        5802408.90333683,  5663423.90467223,  5684625.00616344,\n",
       "       24385007.77351295,  9432569.52396453,  5637652.7879707 ,\n",
       "        5663423.90467223,  5652116.65054359,  5659701.93352156,\n",
       "        5816542.97099764,  5674260.02321219,  5712893.14148506,\n",
       "        7666221.29220855,  9437893.35611676,  9432616.6375234 ,\n",
       "        5670490.93850264,  5695366.89758566,  5764718.05624135,\n",
       "        5689336.36205038,  5638171.03711826,  5712893.14148506,\n",
       "        5755295.34446748,  5755295.34446748, 26136620.91135081,\n",
       "        6556225.84524653,  5684625.00616344,  5615839.21021419,\n",
       "        1894136.94470333,  5655179.0318701 ,  9389884.63962889,\n",
       "        5684907.68751666,  1896492.6226468 ,  5712893.14148506,\n",
       "        5657346.25557809])"
      ]
     },
     "execution_count": 25,
     "metadata": {},
     "output_type": "execute_result"
    }
   ],
   "source": [
    "model.predict(X_test)"
   ]
  },
  {
   "cell_type": "code",
   "execution_count": 26,
   "id": "fc5f2771",
   "metadata": {},
   "outputs": [],
   "source": [
    "from sklearn.metrics import mean_squared_error \n",
    "y_pred=model.predict(X_test)\n",
    "lin_mse=mean_squared_error(y_pred,y_test)\n",
    "lin_rmse=np.sqrt(lin_mse)"
   ]
  },
  {
   "cell_type": "code",
   "execution_count": 27,
   "id": "68cb5120",
   "metadata": {},
   "outputs": [
    {
     "data": {
      "text/plain": [
       "367885128978261.8"
      ]
     },
     "execution_count": 27,
     "metadata": {},
     "output_type": "execute_result"
    }
   ],
   "source": [
    "lin_mse"
   ]
  },
  {
   "cell_type": "code",
   "execution_count": 22,
   "id": "b2c4cb1c",
   "metadata": {},
   "outputs": [
    {
     "data": {
      "text/html": [
       "<div>\n",
       "<style scoped>\n",
       "    .dataframe tbody tr th:only-of-type {\n",
       "        vertical-align: middle;\n",
       "    }\n",
       "\n",
       "    .dataframe tbody tr th {\n",
       "        vertical-align: top;\n",
       "    }\n",
       "\n",
       "    .dataframe thead th {\n",
       "        text-align: right;\n",
       "    }\n",
       "</style>\n",
       "<table border=\"1\" class=\"dataframe\">\n",
       "  <thead>\n",
       "    <tr style=\"text-align: right;\">\n",
       "      <th></th>\n",
       "      <th>squarefeet</th>\n",
       "      <th>Bed</th>\n",
       "      <th>Price(Rs)</th>\n",
       "    </tr>\n",
       "  </thead>\n",
       "  <tbody>\n",
       "    <tr>\n",
       "      <th>count</th>\n",
       "      <td>5.570000e+02</td>\n",
       "      <td>557.000000</td>\n",
       "      <td>5.570000e+02</td>\n",
       "    </tr>\n",
       "    <tr>\n",
       "      <th>mean</th>\n",
       "      <td>1.208297e+04</td>\n",
       "      <td>2.120287</td>\n",
       "      <td>6.862693e+06</td>\n",
       "    </tr>\n",
       "    <tr>\n",
       "      <th>std</th>\n",
       "      <td>1.274884e+05</td>\n",
       "      <td>0.914453</td>\n",
       "      <td>1.504624e+07</td>\n",
       "    </tr>\n",
       "    <tr>\n",
       "      <th>min</th>\n",
       "      <td>1.000000e+00</td>\n",
       "      <td>1.000000</td>\n",
       "      <td>1.200000e+05</td>\n",
       "    </tr>\n",
       "    <tr>\n",
       "      <th>25%</th>\n",
       "      <td>7.500000e+02</td>\n",
       "      <td>2.000000</td>\n",
       "      <td>2.500000e+06</td>\n",
       "    </tr>\n",
       "    <tr>\n",
       "      <th>50%</th>\n",
       "      <td>1.100000e+03</td>\n",
       "      <td>2.000000</td>\n",
       "      <td>3.900000e+06</td>\n",
       "    </tr>\n",
       "    <tr>\n",
       "      <th>75%</th>\n",
       "      <td>2.177000e+03</td>\n",
       "      <td>2.000000</td>\n",
       "      <td>6.200000e+06</td>\n",
       "    </tr>\n",
       "    <tr>\n",
       "      <th>max</th>\n",
       "      <td>2.831500e+06</td>\n",
       "      <td>10.000000</td>\n",
       "      <td>2.100000e+08</td>\n",
       "    </tr>\n",
       "  </tbody>\n",
       "</table>\n",
       "</div>"
      ],
      "text/plain": [
       "         squarefeet         Bed     Price(Rs)\n",
       "count  5.570000e+02  557.000000  5.570000e+02\n",
       "mean   1.208297e+04    2.120287  6.862693e+06\n",
       "std    1.274884e+05    0.914453  1.504624e+07\n",
       "min    1.000000e+00    1.000000  1.200000e+05\n",
       "25%    7.500000e+02    2.000000  2.500000e+06\n",
       "50%    1.100000e+03    2.000000  3.900000e+06\n",
       "75%    2.177000e+03    2.000000  6.200000e+06\n",
       "max    2.831500e+06   10.000000  2.100000e+08"
      ]
     },
     "execution_count": 22,
     "metadata": {},
     "output_type": "execute_result"
    }
   ],
   "source": [
    "df.describe()"
   ]
  },
  {
   "cell_type": "code",
   "execution_count": 23,
   "id": "ad84485a",
   "metadata": {},
   "outputs": [],
   "source": [
    "%matplotlib inline"
   ]
  },
  {
   "cell_type": "code",
   "execution_count": 24,
   "id": "70281070",
   "metadata": {},
   "outputs": [],
   "source": [
    "import matplotlib.pyplot as plt"
   ]
  },
  {
   "cell_type": "code",
   "execution_count": 25,
   "id": "1793be1a",
   "metadata": {},
   "outputs": [
    {
     "data": {
      "text/plain": [
       "array([[<AxesSubplot:title={'center':'squarefeet'}>,\n",
       "        <AxesSubplot:title={'center':'Bed'}>],\n",
       "       [<AxesSubplot:title={'center':'Price(Rs)'}>, <AxesSubplot:>]],\n",
       "      dtype=object)"
      ]
     },
     "execution_count": 25,
     "metadata": {},
     "output_type": "execute_result"
    },
    {
     "data": {
      "image/png": "[encoded data removed]",
      "text/plain": [
       "<Figure size 1440x1080 with 4 Axes>"
      ]
     },
     "metadata": {
      "needs_background": "light"
     },
     "output_type": "display_data"
    }
   ],
   "source": [
    "df.hist(bins=50,figsize=(20,15))"
   ]
  },
  {
   "cell_type": "code",
   "execution_count": 31,
   "id": "738f839d",
   "metadata": {},
   "outputs": [
    {
     "data": {
      "text/html": [
       "<div>\n",
       "<style scoped>\n",
       "    .dataframe tbody tr th:only-of-type {\n",
       "        vertical-align: middle;\n",
       "    }\n",
       "\n",
       "    .dataframe tbody tr th {\n",
       "        vertical-align: top;\n",
       "    }\n",
       "\n",
       "    .dataframe thead th {\n",
       "        text-align: right;\n",
       "    }\n",
       "</style>\n",
       "<table border=\"1\" class=\"dataframe\">\n",
       "  <thead>\n",
       "    <tr style=\"text-align: right;\">\n",
       "      <th></th>\n",
       "      <th>squarefeet</th>\n",
       "      <th>Bed</th>\n",
       "      <th>Price(Rs)</th>\n",
       "    </tr>\n",
       "  </thead>\n",
       "  <tbody>\n",
       "    <tr>\n",
       "      <th>squarefeet</th>\n",
       "      <td>1.000000</td>\n",
       "      <td>-0.008086</td>\n",
       "      <td>0.450663</td>\n",
       "    </tr>\n",
       "    <tr>\n",
       "      <th>Bed</th>\n",
       "      <td>-0.008086</td>\n",
       "      <td>1.000000</td>\n",
       "      <td>0.188989</td>\n",
       "    </tr>\n",
       "    <tr>\n",
       "      <th>Price(Rs)</th>\n",
       "      <td>0.450663</td>\n",
       "      <td>0.188989</td>\n",
       "      <td>1.000000</td>\n",
       "    </tr>\n",
       "  </tbody>\n",
       "</table>\n",
       "</div>"
      ],
      "text/plain": [
       "            squarefeet       Bed  Price(Rs)\n",
       "squarefeet    1.000000 -0.008086   0.450663\n",
       "Bed          -0.008086  1.000000   0.188989\n",
       "Price(Rs)     0.450663  0.188989   1.000000"
      ]
     },
     "execution_count": 31,
     "metadata": {},
     "output_type": "execute_result"
    }
   ],
   "source": [
    "df.corr()"
   ]
  },
  {
   "cell_type": "code",
   "execution_count": null,
   "id": "9044d7f7",
   "metadata": {},
   "outputs": [],
   "source": []
  }
 ],
 "metadata": {
  "kernelspec": {
   "display_name": "Python 3",
   "language": "python",
   "name": "python3"
  },
  "language_info": {
   "codemirror_mode": {
    "name": "ipython",
    "version": 3
   },
   "file_extension": ".py",
   "mimetype": "text/x-python",
   "name": "python",
   "nbconvert_exporter": "python",
   "pygments_lexer": "ipython3",
   "version": "3.8.8"
  }
 },
 "nbformat": 4,
 "nbformat_minor": 5
}
